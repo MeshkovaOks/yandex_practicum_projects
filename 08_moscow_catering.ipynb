{
 "cells": [
  {
   "cell_type": "markdown",
   "id": "ac04a657",
   "metadata": {},
   "source": [
    "\n",
    "## Содержание<a class=\"tocSkip\">"
   ]
  },
  {
   "cell_type": "markdown",
   "id": "ccbc1e9c",
   "metadata": {},
   "source": [
    "1. [Изучение данных из файла](#opening)\n",
    "    - [Вывод](#opening_conclusion)\n",
    "    \n",
    "    \n",
    "2. [Предобработка данных](#preprocessing)\n",
    "    - [Вывод](#preprocessing_conclusion)  \n",
    "        \n",
    " \n",
    "3. [Анализ данных](#analysis)\n",
    "    - [Cоотношение видов объектов общественного питания по количеству](#types_by_count)\n",
    "    - [Cоотношение сетевых и несетевых заведений по количеству](#chain_by_count)\n",
    "    - [Cоотношение видов сетевых и несетевых заведений](#type_by_count)\n",
    "    - [Характеристика сетевых заведений по количеству заведений и количеству посадочных мест в одном заведении](#chain_by_number)\n",
    "    - [Среднее количество посадочных мест по видам объекта общественного питания](#mean_by_type)\n",
    "    - [Топ-10 улиц по количеству объектов общественного питания](#10_streets)\n",
    "    - [Улицы с одним объектом общественного питания](#streets_one_object)\n",
    "    - [Количество посадочных мест на улицах с большим количеством объектов общественного питания](#seats_top_10_streets)\n",
    "    - [Вывод](#analysis_conclusion)\n",
    "\n",
    "\n",
    "5. [Общий вывод](#conclusion)"
   ]
  },
  {
   "cell_type": "markdown",
   "id": "87319947",
   "metadata": {},
   "source": [
    "# Анализ открытых данных о заведениях общественного питания в Москве\n",
    "\n",
    "<br>\n",
    "Исследование для инвесторов на основании имеющихся открытых данных о заведениях общественного питания в Москве.\n",
    "\n",
    "Разработка рекомендаций о виде заведения, количестве посадочных мест, а также районе расположения, рассмотрение возможности развития сети в целях привлечения инвестиций."
   ]
  },
  {
   "cell_type": "markdown",
   "id": "d59cca67",
   "metadata": {},
   "source": [
    "<a id=\"opening\"></a>\n",
    "## Изучение данных из файла"
   ]
  },
  {
   "cell_type": "markdown",
   "id": "e6824451",
   "metadata": {},
   "source": [
    "Импортируем необходимые библиотеки."
   ]
  },
  {
   "cell_type": "code",
   "execution_count": 1,
   "id": "8783209b",
   "metadata": {},
   "outputs": [],
   "source": [
    "import pandas as pd \n",
    "import matplotlib.pyplot as plt\n",
    "import numpy as np\n",
    "import seaborn as sns\n",
    "from pymystem3 import Mystem\n",
    "from collections import Counter\n",
    "from io import BytesIO\n",
    "import requests"
   ]
  },
  {
   "cell_type": "markdown",
   "id": "97bda29a",
   "metadata": {},
   "source": [
    "Прочитаем имеющийся в нашем распоряжении файл, посмотрим сводную информацию и первые 5 строк."
   ]
  },
  {
   "cell_type": "code",
   "execution_count": 2,
   "id": "3b16f25a",
   "metadata": {},
   "outputs": [],
   "source": [
    "try:\n",
    "    rest_data = pd.read_csv(r\"/datasets/rest_data.csv\")\n",
    "except FileNotFoundError:\n",
    "    rest_data = pd.read_csv(r\"C:\\Users\\79822\\python\\datasets\\rest_data.csv\")"
   ]
  },
  {
   "cell_type": "code",
   "execution_count": 3,
   "id": "5159e2af",
   "metadata": {
    "scrolled": true
   },
   "outputs": [],
   "source": [
    "def description(list_df, list_names): #напишем функцию для краткого описания датафреймов\n",
    "    assert len(list_df) == len(list_names)\n",
    "    for num in range(len(list_df)):\n",
    "        print('Первые 5 строк и сводная информация по файлу', list_names[num])\n",
    "        display(list_df[num].head())\n",
    "        list_df[num].info()\n",
    "        print('Количество строк-дубликатов в датафрейме', list_names[num], 'равно', list_df[num].duplicated().sum())\n",
    "        print('_'*100)"
   ]
  },
  {
   "cell_type": "code",
   "execution_count": 4,
   "id": "1b232d05",
   "metadata": {},
   "outputs": [
    {
     "name": "stdout",
     "output_type": "stream",
     "text": [
      "Первые 5 строк и сводная информация по файлу rest_data\n"
     ]
    },
    {
     "data": {
      "text/html": [
       "<div>\n",
       "<style scoped>\n",
       "    .dataframe tbody tr th:only-of-type {\n",
       "        vertical-align: middle;\n",
       "    }\n",
       "\n",
       "    .dataframe tbody tr th {\n",
       "        vertical-align: top;\n",
       "    }\n",
       "\n",
       "    .dataframe thead th {\n",
       "        text-align: right;\n",
       "    }\n",
       "</style>\n",
       "<table border=\"1\" class=\"dataframe\">\n",
       "  <thead>\n",
       "    <tr style=\"text-align: right;\">\n",
       "      <th></th>\n",
       "      <th>id</th>\n",
       "      <th>object_name</th>\n",
       "      <th>chain</th>\n",
       "      <th>object_type</th>\n",
       "      <th>address</th>\n",
       "      <th>number</th>\n",
       "    </tr>\n",
       "  </thead>\n",
       "  <tbody>\n",
       "    <tr>\n",
       "      <th>0</th>\n",
       "      <td>151635</td>\n",
       "      <td>СМЕТАНА</td>\n",
       "      <td>нет</td>\n",
       "      <td>кафе</td>\n",
       "      <td>город Москва, улица Егора Абакумова, дом 9</td>\n",
       "      <td>48</td>\n",
       "    </tr>\n",
       "    <tr>\n",
       "      <th>1</th>\n",
       "      <td>77874</td>\n",
       "      <td>Родник</td>\n",
       "      <td>нет</td>\n",
       "      <td>кафе</td>\n",
       "      <td>город Москва, улица Талалихина, дом 2/1, корпус 1</td>\n",
       "      <td>35</td>\n",
       "    </tr>\n",
       "    <tr>\n",
       "      <th>2</th>\n",
       "      <td>24309</td>\n",
       "      <td>Кафе «Академия»</td>\n",
       "      <td>нет</td>\n",
       "      <td>кафе</td>\n",
       "      <td>город Москва, Абельмановская улица, дом 6</td>\n",
       "      <td>95</td>\n",
       "    </tr>\n",
       "    <tr>\n",
       "      <th>3</th>\n",
       "      <td>21894</td>\n",
       "      <td>ПИЦЦЕТОРИЯ</td>\n",
       "      <td>да</td>\n",
       "      <td>кафе</td>\n",
       "      <td>город Москва, Абрамцевская улица, дом 1</td>\n",
       "      <td>40</td>\n",
       "    </tr>\n",
       "    <tr>\n",
       "      <th>4</th>\n",
       "      <td>119365</td>\n",
       "      <td>Кафе «Вишневая метель»</td>\n",
       "      <td>нет</td>\n",
       "      <td>кафе</td>\n",
       "      <td>город Москва, Абрамцевская улица, дом 9, корпус 1</td>\n",
       "      <td>50</td>\n",
       "    </tr>\n",
       "  </tbody>\n",
       "</table>\n",
       "</div>"
      ],
      "text/plain": [
       "       id             object_name chain object_type  \\\n",
       "0  151635                 СМЕТАНА   нет        кафе   \n",
       "1   77874                  Родник   нет        кафе   \n",
       "2   24309         Кафе «Академия»   нет        кафе   \n",
       "3   21894              ПИЦЦЕТОРИЯ    да        кафе   \n",
       "4  119365  Кафе «Вишневая метель»   нет        кафе   \n",
       "\n",
       "                                             address  number  \n",
       "0         город Москва, улица Егора Абакумова, дом 9      48  \n",
       "1  город Москва, улица Талалихина, дом 2/1, корпус 1      35  \n",
       "2          город Москва, Абельмановская улица, дом 6      95  \n",
       "3            город Москва, Абрамцевская улица, дом 1      40  \n",
       "4  город Москва, Абрамцевская улица, дом 9, корпус 1      50  "
      ]
     },
     "metadata": {},
     "output_type": "display_data"
    },
    {
     "name": "stdout",
     "output_type": "stream",
     "text": [
      "<class 'pandas.core.frame.DataFrame'>\n",
      "RangeIndex: 15366 entries, 0 to 15365\n",
      "Data columns (total 6 columns):\n",
      " #   Column       Non-Null Count  Dtype \n",
      "---  ------       --------------  ----- \n",
      " 0   id           15366 non-null  int64 \n",
      " 1   object_name  15366 non-null  object\n",
      " 2   chain        15366 non-null  object\n",
      " 3   object_type  15366 non-null  object\n",
      " 4   address      15366 non-null  object\n",
      " 5   number       15366 non-null  int64 \n",
      "dtypes: int64(2), object(4)\n",
      "memory usage: 720.4+ KB\n",
      "Количество строк-дубликатов в датафрейме rest_data равно 0\n",
      "____________________________________________________________________________________________________\n"
     ]
    }
   ],
   "source": [
    "description([rest_data], ['rest_data'])"
   ]
  },
  {
   "cell_type": "markdown",
   "id": "9e31433a",
   "metadata": {},
   "source": [
    "<a id=\"opening_conclusion\"></a>\n",
    "### Вывод"
   ]
  },
  {
   "cell_type": "markdown",
   "id": "3dafac24",
   "metadata": {},
   "source": [
    "В нашем распоряжении датафрейм с открытыми данными о заведениях общественного питания в Москве. Датафрейм содержит информацию о:\n",
    "- идентификационном номере заведения;\n",
    "- названии заведения;\n",
    "- указании, является ли заведение сетевым;\n",
    "- типе заведения;\n",
    "- адресе;\n",
    "- количестве посадочных мест.\n",
    "\n",
    "Пропуски и дубликаты в датафрейме отсутствуют."
   ]
  },
  {
   "cell_type": "markdown",
   "id": "2b05a369",
   "metadata": {},
   "source": [
    "<a id=\"preprocessing\"></a>\n",
    "## Предобработка данных"
   ]
  },
  {
   "cell_type": "markdown",
   "id": "86e47c7a",
   "metadata": {},
   "source": [
    "Посчитаем, какое количество заведений с пометкой сетевые есть в датафрейме, и какое количество сетей получается при группировке."
   ]
  },
  {
   "cell_type": "code",
   "execution_count": 5,
   "id": "021ff148",
   "metadata": {},
   "outputs": [
    {
     "name": "stdout",
     "output_type": "stream",
     "text": [
      "Количество заведений, помеченных как сетевые: 2968\n",
      "Количество заведений с повторяющимися названиями: 2244\n"
     ]
    }
   ],
   "source": [
    "print('Количество заведений, помеченных как сетевые:',\n",
    "      rest_data[rest_data['chain']=='да']['id'].count())\n",
    "print('Количество заведений с повторяющимися названиями:',\n",
    "      rest_data[rest_data['chain']=='да']['object_name'].duplicated().sum())"
   ]
  },
  {
   "cell_type": "markdown",
   "id": "13b959a2",
   "metadata": {},
   "source": [
    "Посчитаем, сколько сетевых заведений не попадут в анализ при группировке по именам и их долю."
   ]
  },
  {
   "cell_type": "code",
   "execution_count": 6,
   "id": "2a32a66d",
   "metadata": {},
   "outputs": [
    {
     "name": "stdout",
     "output_type": "stream",
     "text": [
      "Количество заведений, которые не попадут в анализ при группировке по именам: 724\n",
      "Доля заведений, которые не попадут в анализ при группировке по именам: 0.24\n"
     ]
    }
   ],
   "source": [
    "print('Количество заведений, которые не попадут в анализ при группировке по именам:',\n",
    "      rest_data[rest_data['chain']=='да']['id'].count()-\\\n",
    "      rest_data[rest_data['chain']=='да']['object_name'].duplicated().sum())\n",
    "print('Доля заведений, которые не попадут в анализ при группировке по именам:',\n",
    "      round((rest_data[rest_data['chain']=='да']['id'].count()-\\\n",
    "      rest_data[rest_data['chain']=='да']['object_name'].duplicated().sum())/\\\n",
    "     rest_data[rest_data['chain']=='да']['id'].count(), 2))"
   ]
  },
  {
   "cell_type": "markdown",
   "id": "9b26148f",
   "metadata": {},
   "source": [
    "Для обработки создадим колонку `object_name_lower` , в ней приведем названия заведений к нижнему регистру."
   ]
  },
  {
   "cell_type": "code",
   "execution_count": 7,
   "id": "9e1142dc",
   "metadata": {},
   "outputs": [],
   "source": [
    "rest_data['object_name_lower'] = rest_data['object_name'].map(str.lower)"
   ]
  },
  {
   "cell_type": "markdown",
   "id": "77e5f14d",
   "metadata": {},
   "source": [
    "Для обработки названий сетевых заведений я подготовила файл `moscow_rest_chains.csv` и разместила его на Гугл Диск. Загрузим данный файл и посмотрим по нему информацию."
   ]
  },
  {
   "cell_type": "code",
   "execution_count": 8,
   "id": "47f68672",
   "metadata": {
    "scrolled": true
   },
   "outputs": [
    {
     "name": "stdout",
     "output_type": "stream",
     "text": [
      "Первые 5 строк и сводная информация по файлу rest_chains\n"
     ]
    },
    {
     "data": {
      "text/html": [
       "<div>\n",
       "<style scoped>\n",
       "    .dataframe tbody tr th:only-of-type {\n",
       "        vertical-align: middle;\n",
       "    }\n",
       "\n",
       "    .dataframe tbody tr th {\n",
       "        vertical-align: top;\n",
       "    }\n",
       "\n",
       "    .dataframe thead th {\n",
       "        text-align: right;\n",
       "    }\n",
       "</style>\n",
       "<table border=\"1\" class=\"dataframe\">\n",
       "  <thead>\n",
       "    <tr style=\"text-align: right;\">\n",
       "      <th></th>\n",
       "      <th>rest_chain_name</th>\n",
       "    </tr>\n",
       "  </thead>\n",
       "  <tbody>\n",
       "    <tr>\n",
       "      <th>0</th>\n",
       "      <td>Wetzel’s Pretzels</td>\n",
       "    </tr>\n",
       "    <tr>\n",
       "      <th>1</th>\n",
       "      <td>1-2-3 кафе</td>\n",
       "    </tr>\n",
       "    <tr>\n",
       "      <th>2</th>\n",
       "      <td>33 зуба</td>\n",
       "    </tr>\n",
       "    <tr>\n",
       "      <th>3</th>\n",
       "      <td>5 звезд</td>\n",
       "    </tr>\n",
       "    <tr>\n",
       "      <th>4</th>\n",
       "      <td>5 оборотов на Калужской</td>\n",
       "    </tr>\n",
       "  </tbody>\n",
       "</table>\n",
       "</div>"
      ],
      "text/plain": [
       "           rest_chain_name\n",
       "0        Wetzel’s Pretzels\n",
       "1               1-2-3 кафе\n",
       "2                  33 зуба\n",
       "3                  5 звезд\n",
       "4  5 оборотов на Калужской"
      ]
     },
     "metadata": {},
     "output_type": "display_data"
    },
    {
     "name": "stdout",
     "output_type": "stream",
     "text": [
      "<class 'pandas.core.frame.DataFrame'>\n",
      "RangeIndex: 666 entries, 0 to 665\n",
      "Data columns (total 1 columns):\n",
      " #   Column           Non-Null Count  Dtype \n",
      "---  ------           --------------  ----- \n",
      " 0   rest_chain_name  666 non-null    object\n",
      "dtypes: object(1)\n",
      "memory usage: 5.3+ KB\n",
      "Количество строк-дубликатов в датафрейме rest_chains равно 8\n",
      "____________________________________________________________________________________________________\n"
     ]
    }
   ],
   "source": [
    "spreadsheet_id = '1zjOXFjr1vleQJd3R5mI-5efNCEj2I6DcKE4xlYVcsoU'\n",
    "file_name = 'https://docs.google.com/spreadsheets/d/{}/export?format=csv'.format(spreadsheet_id)\n",
    "r = requests.get(file_name)\n",
    "rest_chains = pd.read_csv(BytesIO(r.content))\n",
    "description([rest_chains], ['rest_chains'])"
   ]
  },
  {
   "cell_type": "markdown",
   "id": "466e40f3",
   "metadata": {},
   "source": [
    "Датафрейм содержит дубликаты, уберем их и приведем названия сетей к нижнему регистру."
   ]
  },
  {
   "cell_type": "code",
   "execution_count": 9,
   "id": "fe4d8bbd",
   "metadata": {},
   "outputs": [
    {
     "data": {
      "text/html": [
       "<div>\n",
       "<style scoped>\n",
       "    .dataframe tbody tr th:only-of-type {\n",
       "        vertical-align: middle;\n",
       "    }\n",
       "\n",
       "    .dataframe tbody tr th {\n",
       "        vertical-align: top;\n",
       "    }\n",
       "\n",
       "    .dataframe thead th {\n",
       "        text-align: right;\n",
       "    }\n",
       "</style>\n",
       "<table border=\"1\" class=\"dataframe\">\n",
       "  <thead>\n",
       "    <tr style=\"text-align: right;\">\n",
       "      <th></th>\n",
       "      <th>rest_chain_name</th>\n",
       "    </tr>\n",
       "  </thead>\n",
       "  <tbody>\n",
       "    <tr>\n",
       "      <th>653</th>\n",
       "      <td>маки маки / maki maki</td>\n",
       "    </tr>\n",
       "    <tr>\n",
       "      <th>654</th>\n",
       "      <td>космик</td>\n",
       "    </tr>\n",
       "    <tr>\n",
       "      <th>655</th>\n",
       "      <td>суши вок / sushi wok</td>\n",
       "    </tr>\n",
       "    <tr>\n",
       "      <th>656</th>\n",
       "      <td>папа джонс / papa jones</td>\n",
       "    </tr>\n",
       "    <tr>\n",
       "      <th>657</th>\n",
       "      <td>поль бейкери</td>\n",
       "    </tr>\n",
       "  </tbody>\n",
       "</table>\n",
       "</div>"
      ],
      "text/plain": [
       "             rest_chain_name\n",
       "653    маки маки / maki maki\n",
       "654                   космик\n",
       "655     суши вок / sushi wok\n",
       "656  папа джонс / papa jones\n",
       "657             поль бейкери"
      ]
     },
     "execution_count": 9,
     "metadata": {},
     "output_type": "execute_result"
    }
   ],
   "source": [
    "rest_chains = rest_chains.drop_duplicates().reset_index(drop=True)\n",
    "rest_chains['rest_chain_name'] = rest_chains['rest_chain_name'].map(str.lower)\n",
    "rest_chains.tail()"
   ]
  },
  {
   "cell_type": "markdown",
   "id": "856b000c",
   "metadata": {},
   "source": [
    "Некоторые сети в файле содержат по два названия, сделаем срез по таким строкам и вынесем их в отдельный датафрейм. Датафрейм превратим в список."
   ]
  },
  {
   "cell_type": "code",
   "execution_count": 10,
   "id": "ccea8397",
   "metadata": {
    "scrolled": true
   },
   "outputs": [
    {
     "data": {
      "text/plain": [
       "[['amstel bar', 'амстел бар'],\n",
       " ['andiamo', 'андиамо'],\n",
       " ['bento cafe', 'бенто кафе'],\n",
       " ['bocconcino', 'бокончино'],\n",
       " ['burger king', 'бургер кинг'],\n",
       " ['cafemax', 'кафемакс'],\n",
       " ['cantina mariachi', 'кантина мариачи'],\n",
       " [\"chili's grill & bar\", 'чилиз'],\n",
       " ['chin chin', 'чин чин'],\n",
       " ['city pizza', 'сити пицца'],\n",
       " ['da pino', 'да пино'],\n",
       " ['de marco', 'де марко'],\n",
       " ['don peri', 'дон пери'],\n",
       " ['el gaucho', 'эль гаучо'],\n",
       " ['eshak', 'ишак'],\n",
       " ['fanny pizza', 'фанни пицца'],\n",
       " ['fantozzi', 'фантоцци'],\n",
       " ['gamberi', 'гамбари'],\n",
       " ['goodman', 'гудман'],\n",
       " ['grace bar', 'грэйс бар'],\n",
       " ['habibi', 'хабиби'],\n",
       " ['il camino', 'иль камино'],\n",
       " ['il forno', 'иль форно'],\n",
       " ['il patio', 'иль патио'],\n",
       " ['kitchenette', 'китченетт'],\n",
       " ['la mix', 'ла микс'],\n",
       " ['laffa laffa', 'лаффа'],\n",
       " ['lizarran', 'лизарран'],\n",
       " ['london grill', 'лондон гриль'],\n",
       " ['luciano', 'лучиано'],\n",
       " ['lunchbox', 'ланч бокс'],\n",
       " ['max brenner', 'макс бреннер'],\n",
       " ['mix cafe', 'микс кафе'],\n",
       " ['oskar yard', 'оскар ярд'],\n",
       " ['pasta la vista', 'паста ла виста'],\n",
       " ['pasta project', 'паста прожэкт'],\n",
       " ['piccolo diabolo', 'пикколо диаболо'],\n",
       " ['pinocchio', 'пиноккио'],\n",
       " ['pronto', 'пронто'],\n",
       " ['puff point', 'пафф поинт'],\n",
       " ['quattro camini', 'кватро камини'],\n",
       " ['ragout', 'рагу'],\n",
       " ['sbarro', 'сбарро'],\n",
       " ['starducks', 'стардакс'],\n",
       " ['starbucks', 'старбакс'],\n",
       " ['starlite', 'старлайт'],\n",
       " ['subway', 'сабвэй'],\n",
       " [\"t.g.i. friday's\", \"ти джи ай фрайдэй'c\"],\n",
       " ['telepizza', 'телепицца'],\n",
       " ['tiki-bar', 'тики-бар'],\n",
       " ['tony pizza bar', 'тони пицца бар'],\n",
       " [\"traveler's coffee\", 'трэвэлерс кофе'],\n",
       " ['union jack', 'юнион джек'],\n",
       " ['viet cafe', 'вьет кафе'],\n",
       " ['yogo', 'його'],\n",
       " ['zu cafe', 'zю кафе'],\n",
       " ['авиньон', 'avignon'],\n",
       " ['бага бар', 'baga bar'],\n",
       " ['бараshka', 'барашка'],\n",
       " ['баскин роббинс', 'baskin robbins'],\n",
       " ['бирхаус', 'beerhouse'],\n",
       " ['бирштольц', 'biersсhtolz'],\n",
       " ['бирлайн', 'beerline'],\n",
       " ['биродром', 'beerodrom'],\n",
       " ['бонтемпи', 'bontempi'],\n",
       " ['бург хаус', 'burg hauss'],\n",
       " ['вапиано', 'vapiano'],\n",
       " ['виаджио', 'viaggio'],\n",
       " ['винегрет', 'vinegret'],\n",
       " ['винчи', 'vinci'],\n",
       " ['воккер', 'wokker'],\n",
       " ['гаш гуш ашкана', 'gash-gush ashkana'],\n",
       " ['гранд гриль', 'grand grill'],\n",
       " ['иль джорно', 'il giorno'],\n",
       " ['ичибан боши', 'ichiban boshi'],\n",
       " ['йоркшир', 'yorkshir'],\n",
       " ['кабуки', 'kabuki'],\n",
       " ['кампус', 'campus'],\n",
       " ['каффетеррия', 'caffeterria'],\n",
       " ['кимчи', 'kimchi'],\n",
       " ['конадо', 'conado'],\n",
       " ['корреас', 'correa`s'],\n",
       " ['кофе бин', 'coffee bean'],\n",
       " ['кофе хауз', 'кофе хаус'],\n",
       " ['кофе хауз', 'кофе-хаус'],\n",
       " ['кофеин', 'koffein'],\n",
       " ['крошка-картошка', 'крошка картошка'],\n",
       " ['ла гротта', 'la grotta'],\n",
       " ['лайт кафе', 'light cafe'],\n",
       " ['ламбик', 'lambic'],\n",
       " ['макдоналдс', 'mcdonalds'],\n",
       " ['мама тао', 'mama tao'],\n",
       " ['манчо', 'mancho'],\n",
       " ['ми пьяче', 'mi piace'],\n",
       " ['нами', 'nami'],\n",
       " ['панч & джуди паб', 'punch & judy pub'],\n",
       " ['пельмэн', 'pelman hand made'],\n",
       " ['пивбум', 'пивбум'],\n",
       " ['подари! вкус', 'подари вкус'],\n",
       " ['рибамбель', 'ribambelle'],\n",
       " ['саперави', 'saperavi café'],\n",
       " ['соло де марко', 'solo de marco'],\n",
       " ['темпл бар', 'temple bar'],\n",
       " ['торро гриль', 'torro grill'],\n",
       " ['черетто', 'ceretto'],\n",
       " ['шварцвальд', 'schwarzwald'],\n",
       " ['эдоко', 'edoko'],\n",
       " ['эль гаучито', 'el gauchito'],\n",
       " ['маки маки', 'маки-маки'],\n",
       " ['маки маки', 'maki maki'],\n",
       " ['суши вок', 'sushi wok'],\n",
       " ['папа джонс', 'papa jones']]"
      ]
     },
     "execution_count": 10,
     "metadata": {},
     "output_type": "execute_result"
    }
   ],
   "source": [
    "rest_chains_double_names = rest_chains.query(\n",
    "    'rest_chain_name.str.contains(\" / \")')['rest_chain_name'].str.split(' / ', expand=True).reset_index(drop=True)\n",
    "rest_chains_double_names_list = rest_chains_double_names.values.tolist()\n",
    "rest_chains_double_names_list"
   ]
  },
  {
   "cell_type": "markdown",
   "id": "4b79b7a5",
   "metadata": {},
   "source": [
    "Зададим функцию, которая будет проверять наличие в заданной колонке второго названия сети из датафрейма и, при наличии, заменять его первым."
   ]
  },
  {
   "cell_type": "code",
   "execution_count": 11,
   "id": "5d33ea92",
   "metadata": {},
   "outputs": [],
   "source": [
    "def double_names(name):\n",
    "    for double_name in rest_chains_double_names_list:\n",
    "        if double_name[1] in name:\n",
    "            return(double_name[0])\n",
    "    return(name)"
   ]
  },
  {
   "cell_type": "markdown",
   "id": "a29f7831",
   "metadata": {},
   "source": [
    "Проверим работу функции на датафрейме с названиями сетей."
   ]
  },
  {
   "cell_type": "code",
   "execution_count": 12,
   "id": "69200120",
   "metadata": {},
   "outputs": [
    {
     "data": {
      "text/html": [
       "<div>\n",
       "<style scoped>\n",
       "    .dataframe tbody tr th:only-of-type {\n",
       "        vertical-align: middle;\n",
       "    }\n",
       "\n",
       "    .dataframe tbody tr th {\n",
       "        vertical-align: top;\n",
       "    }\n",
       "\n",
       "    .dataframe thead th {\n",
       "        text-align: right;\n",
       "    }\n",
       "</style>\n",
       "<table border=\"1\" class=\"dataframe\">\n",
       "  <thead>\n",
       "    <tr style=\"text-align: right;\">\n",
       "      <th></th>\n",
       "      <th>rest_chain_name</th>\n",
       "    </tr>\n",
       "  </thead>\n",
       "  <tbody>\n",
       "    <tr>\n",
       "      <th>653</th>\n",
       "      <td>маки маки</td>\n",
       "    </tr>\n",
       "    <tr>\n",
       "      <th>654</th>\n",
       "      <td>космик</td>\n",
       "    </tr>\n",
       "    <tr>\n",
       "      <th>655</th>\n",
       "      <td>суши вок</td>\n",
       "    </tr>\n",
       "    <tr>\n",
       "      <th>656</th>\n",
       "      <td>папа джонс</td>\n",
       "    </tr>\n",
       "    <tr>\n",
       "      <th>657</th>\n",
       "      <td>поль бейкери</td>\n",
       "    </tr>\n",
       "  </tbody>\n",
       "</table>\n",
       "</div>"
      ],
      "text/plain": [
       "    rest_chain_name\n",
       "653       маки маки\n",
       "654          космик\n",
       "655        суши вок\n",
       "656      папа джонс\n",
       "657    поль бейкери"
      ]
     },
     "execution_count": 12,
     "metadata": {},
     "output_type": "execute_result"
    }
   ],
   "source": [
    "rest_chains['rest_chain_name'] = rest_chains['rest_chain_name'].map(double_names)\n",
    "rest_chains.tail()"
   ]
  },
  {
   "cell_type": "markdown",
   "id": "b721c625",
   "metadata": {},
   "source": [
    "Функция работает, применим ее для датафрейма с данными о заведениях Москвы. Для обработки выберем только те заведения, у которых в колонке `chain` указано значение \"да\"."
   ]
  },
  {
   "cell_type": "code",
   "execution_count": 13,
   "id": "d747becc",
   "metadata": {},
   "outputs": [],
   "source": [
    "mask = (rest_data['chain']=='да')\n",
    "rest_data.loc[mask, 'object_name_lower'] = rest_data['object_name_lower'].map(double_names)"
   ]
  },
  {
   "cell_type": "markdown",
   "id": "1a61d6a4",
   "metadata": {},
   "source": [
    "Теперь превратим исходный датафрейм с названиями в список названий и напишем функцию для проверки названий заданной колонки: если часть названия заведения соответствует названию сети из списка заменим название заведения названием сети."
   ]
  },
  {
   "cell_type": "code",
   "execution_count": 14,
   "id": "2605d17b",
   "metadata": {},
   "outputs": [],
   "source": [
    "rest_chains_list = rest_chains['rest_chain_name'].values.tolist()\n",
    "def chain_names(name):\n",
    "    for chain_name in rest_chains_list:\n",
    "        if chain_name in name:\n",
    "            return(chain_name)\n",
    "    return(name)"
   ]
  },
  {
   "cell_type": "markdown",
   "id": "4c63cef0",
   "metadata": {},
   "source": [
    "Применим полученную функцию на датафрейм с данными о заведениях Москвы."
   ]
  },
  {
   "cell_type": "code",
   "execution_count": 15,
   "id": "57c4c6ed",
   "metadata": {},
   "outputs": [],
   "source": [
    "mask = (rest_data['chain']=='да')\n",
    "rest_data.loc[mask, 'object_name_lower'] = rest_data['object_name_lower'].map(chain_names)"
   ]
  },
  {
   "cell_type": "markdown",
   "id": "365c071b",
   "metadata": {},
   "source": [
    "Посмотрим, как изменилась доля заведений, помеченных как сетевые, но с эксклюзивным названием."
   ]
  },
  {
   "cell_type": "code",
   "execution_count": 16,
   "id": "87368cb2",
   "metadata": {
    "scrolled": true
   },
   "outputs": [
    {
     "name": "stdout",
     "output_type": "stream",
     "text": [
      "Количество заведений, которые не попадут в анализ при группировке по именам: 363\n",
      "Доля заведений, которые не попадут в анализ при группировке по именам: 0.12\n"
     ]
    }
   ],
   "source": [
    "print('Количество заведений, которые не попадут в анализ при группировке по именам:',\n",
    "      rest_data[rest_data['chain']=='да']['id'].count()-\\\n",
    "      rest_data[rest_data['chain']=='да']['object_name_lower'].duplicated().sum())\n",
    "print('Доля заведений, которые не попадут в анализ при группировке по именам:',\n",
    "      round((rest_data[rest_data['chain']=='да']['id'].count()-\\\n",
    "      rest_data[rest_data['chain']=='да']['object_name_lower'].duplicated().sum())/\\\n",
    "     rest_data[rest_data['chain']=='да']['id'].count(), 2))"
   ]
  },
  {
   "cell_type": "markdown",
   "id": "e42caa0a",
   "metadata": {},
   "source": [
    "<a id=\"preprocessing_conclusion\"></a>\n",
    "### Вывод"
   ]
  },
  {
   "cell_type": "markdown",
   "id": "36cb0eac",
   "metadata": {},
   "source": [
    "Предобработали названия сетевых заведений, при этом количество заведений, помеченных как сетевые, но не имеющих аналогичных названий сократили почти в 2 раза.\n",
    "\n",
    "При группировке сетевых заведений по именам мы не учтем 12% от общего количества сетевых заведений. Для нашей точности анализа этого будет достаточно."
   ]
  },
  {
   "cell_type": "markdown",
   "id": "442da1ae",
   "metadata": {},
   "source": [
    "<a id=\"analysis\"></a>\n",
    "## Анализ данных"
   ]
  },
  {
   "cell_type": "markdown",
   "id": "f67f6caf",
   "metadata": {},
   "source": [
    "<a id=\"types_by_count\"></a>\n",
    "### Cоотношение видов объектов общественного питания по количеству"
   ]
  },
  {
   "cell_type": "markdown",
   "id": "8467efac",
   "metadata": {},
   "source": [
    "Посмотрим количество разных типов заведений общественного питания."
   ]
  },
  {
   "cell_type": "code",
   "execution_count": 17,
   "id": "80e0a4b7",
   "metadata": {
    "scrolled": false
   },
   "outputs": [
    {
     "data": {
      "text/plain": [
       "кафе                                 6099\n",
       "столовая                             2587\n",
       "ресторан                             2285\n",
       "предприятие быстрого обслуживания    1923\n",
       "бар                                   856\n",
       "буфет                                 585\n",
       "кафетерий                             398\n",
       "закусочная                            360\n",
       "магазин (отдел кулинарии)             273\n",
       "Name: object_type, dtype: int64"
      ]
     },
     "execution_count": 17,
     "metadata": {},
     "output_type": "execute_result"
    }
   ],
   "source": [
    "rest_data.object_type.value_counts()"
   ]
  },
  {
   "cell_type": "code",
   "execution_count": 18,
   "id": "3d89b13d",
   "metadata": {},
   "outputs": [
    {
     "data": {
      "image/png": "[encoded data removed]",
      "text/plain": [
       "<Figure size 432x432 with 1 Axes>"
      ]
     },
     "metadata": {},
     "output_type": "display_data"
    }
   ],
   "source": [
    "plt.figure(figsize=(6, 6))\n",
    "with plt.style.context('seaborn-colorblind'):\n",
    "    plt.pie(rest_data.object_type.value_counts(), labels=rest_data.object_type.value_counts().index, autopct='%1.0f%%')\n",
    "plt.title('Количество заведений общественного питания по типам')\n",
    "plt.show()"
   ]
  },
  {
   "cell_type": "markdown",
   "id": "aff5b0ba",
   "metadata": {},
   "source": [
    "Больше всего в датасете кафе (6099) - их количество более чем в два раза превосходит следующий тип заведений: столовая (2587). Меньше всего в датасете отделов кулинарии в магазинах (273)."
   ]
  },
  {
   "cell_type": "markdown",
   "id": "0f22d818",
   "metadata": {},
   "source": [
    "<a id=\"chain_by_count\"></a>\n",
    "### Cоотношение сетевых и несетевых заведений по количеству"
   ]
  },
  {
   "cell_type": "markdown",
   "id": "0e8b984d",
   "metadata": {},
   "source": [
    "Рассмотрим соотношение сетевых и несетевых заведений по количеству."
   ]
  },
  {
   "cell_type": "code",
   "execution_count": 19,
   "id": "000e6374",
   "metadata": {},
   "outputs": [
    {
     "data": {
      "text/plain": [
       "нет    12398\n",
       "да      2968\n",
       "Name: chain, dtype: int64"
      ]
     },
     "execution_count": 19,
     "metadata": {},
     "output_type": "execute_result"
    }
   ],
   "source": [
    "rest_data.chain.value_counts()"
   ]
  },
  {
   "cell_type": "code",
   "execution_count": 20,
   "id": "56fa5b6f",
   "metadata": {},
   "outputs": [
    {
     "data": {
      "image/png": "[encoded data removed]",
      "text/plain": [
       "<Figure size 288x288 with 1 Axes>"
      ]
     },
     "metadata": {},
     "output_type": "display_data"
    }
   ],
   "source": [
    "plt.figure(figsize=(4, 4))\n",
    "with plt.style.context('fivethirtyeight'):\n",
    "    plt.pie(rest_data.chain.value_counts(), labels=rest_data.chain.value_counts().index, \n",
    "            autopct='%1.0f%%', explode=(0, 0.1), shadow=True)\n",
    "plt.title('Соотношение сетевых и несетевых заведений общественного питания')\n",
    "plt.show()"
   ]
  },
  {
   "cell_type": "markdown",
   "id": "4bb45ac8",
   "metadata": {},
   "source": [
    "В датасете большая часть заведений несетевые (12398)."
   ]
  },
  {
   "cell_type": "markdown",
   "id": "87bca732",
   "metadata": {},
   "source": [
    "<a id=\"type_by_count\"></a>\n",
    "### Cоотношение видов сетевых и несетевых заведений"
   ]
  },
  {
   "cell_type": "markdown",
   "id": "737c6323",
   "metadata": {},
   "source": [
    "Определим, для какого вида объекта общественного питания характерно сетевое распространение."
   ]
  },
  {
   "cell_type": "code",
   "execution_count": 21,
   "id": "b98b127a",
   "metadata": {},
   "outputs": [
    {
     "data": {
      "text/html": [
       "<div>\n",
       "<style scoped>\n",
       "    .dataframe tbody tr th:only-of-type {\n",
       "        vertical-align: middle;\n",
       "    }\n",
       "\n",
       "    .dataframe tbody tr th {\n",
       "        vertical-align: top;\n",
       "    }\n",
       "\n",
       "    .dataframe thead th {\n",
       "        text-align: right;\n",
       "    }\n",
       "</style>\n",
       "<table border=\"1\" class=\"dataframe\">\n",
       "  <thead>\n",
       "    <tr style=\"text-align: right;\">\n",
       "      <th></th>\n",
       "      <th>chain</th>\n",
       "      <th>not_a_chain</th>\n",
       "      <th>chain_persent</th>\n",
       "    </tr>\n",
       "    <tr>\n",
       "      <th>object_type</th>\n",
       "      <th></th>\n",
       "      <th></th>\n",
       "      <th></th>\n",
       "    </tr>\n",
       "  </thead>\n",
       "  <tbody>\n",
       "    <tr>\n",
       "      <th>предприятие быстрого обслуживания</th>\n",
       "      <td>791</td>\n",
       "      <td>1132</td>\n",
       "      <td>41.13</td>\n",
       "    </tr>\n",
       "    <tr>\n",
       "      <th>магазин (отдел кулинарии)</th>\n",
       "      <td>78</td>\n",
       "      <td>195</td>\n",
       "      <td>28.57</td>\n",
       "    </tr>\n",
       "    <tr>\n",
       "      <th>ресторан</th>\n",
       "      <td>544</td>\n",
       "      <td>1741</td>\n",
       "      <td>23.81</td>\n",
       "    </tr>\n",
       "    <tr>\n",
       "      <th>кафе</th>\n",
       "      <td>1396</td>\n",
       "      <td>4703</td>\n",
       "      <td>22.89</td>\n",
       "    </tr>\n",
       "    <tr>\n",
       "      <th>закусочная</th>\n",
       "      <td>56</td>\n",
       "      <td>304</td>\n",
       "      <td>15.56</td>\n",
       "    </tr>\n",
       "    <tr>\n",
       "      <th>кафетерий</th>\n",
       "      <td>52</td>\n",
       "      <td>346</td>\n",
       "      <td>13.07</td>\n",
       "    </tr>\n",
       "    <tr>\n",
       "      <th>бар</th>\n",
       "      <td>37</td>\n",
       "      <td>819</td>\n",
       "      <td>4.32</td>\n",
       "    </tr>\n",
       "    <tr>\n",
       "      <th>буфет</th>\n",
       "      <td>11</td>\n",
       "      <td>574</td>\n",
       "      <td>1.88</td>\n",
       "    </tr>\n",
       "    <tr>\n",
       "      <th>столовая</th>\n",
       "      <td>3</td>\n",
       "      <td>2584</td>\n",
       "      <td>0.12</td>\n",
       "    </tr>\n",
       "  </tbody>\n",
       "</table>\n",
       "</div>"
      ],
      "text/plain": [
       "                                   chain  not_a_chain  chain_persent\n",
       "object_type                                                         \n",
       "предприятие быстрого обслуживания    791         1132          41.13\n",
       "магазин (отдел кулинарии)             78          195          28.57\n",
       "ресторан                             544         1741          23.81\n",
       "кафе                                1396         4703          22.89\n",
       "закусочная                            56          304          15.56\n",
       "кафетерий                             52          346          13.07\n",
       "бар                                   37          819           4.32\n",
       "буфет                                 11          574           1.88\n",
       "столовая                               3         2584           0.12"
      ]
     },
     "execution_count": 21,
     "metadata": {},
     "output_type": "execute_result"
    }
   ],
   "source": [
    "rest_types_by_chain = rest_data.pivot_table(\n",
    "    index='object_type', columns='chain', values='id', aggfunc='count')\n",
    "rest_types_by_chain.columns = ['chain', 'not_a_chain']\n",
    "rest_types_by_chain['chain_persent'] = round(rest_types_by_chain['chain'] / (\n",
    "    rest_types_by_chain['chain']+rest_types_by_chain['not_a_chain'])*100, 2)\n",
    "rest_types_by_chain.sort_values(by='chain_persent', ascending=False)"
   ]
  },
  {
   "cell_type": "markdown",
   "id": "3913c207",
   "metadata": {},
   "source": [
    "Наибольшая доля сетевых заведений среди предприятий быстрого обслуживания (41%), на втором месте отделы кулинарии в магазинах (29%), на третьем - рестораны (24%), с небольшим отставанием от ресторанов кафе (23%). Наименее распространены сети среди столовых (0.12%)."
   ]
  },
  {
   "cell_type": "markdown",
   "id": "dc9535b9",
   "metadata": {},
   "source": [
    "<a id=\"chain_by_number\"></a>\n",
    "### Характеристика сетевых заведений по количеству заведений и количеству посадочных мест в одном заведении"
   ]
  },
  {
   "cell_type": "markdown",
   "id": "5cf8767b",
   "metadata": {},
   "source": [
    "Сделаем срез сетевых заведений с количеством заведений больше 1."
   ]
  },
  {
   "cell_type": "code",
   "execution_count": 22,
   "id": "499216dd",
   "metadata": {},
   "outputs": [],
   "source": [
    "rest_data_chains = rest_data[(rest_data['chain']=='да')&(\n",
    "    rest_data[rest_data['chain']=='да']['object_name_lower'].duplicated(keep=False))]"
   ]
  },
  {
   "cell_type": "markdown",
   "id": "25a5d7e8",
   "metadata": {},
   "source": [
    "Посмотрим на количество заведений в сетях."
   ]
  },
  {
   "cell_type": "code",
   "execution_count": 23,
   "id": "18ac79e1",
   "metadata": {
    "scrolled": true
   },
   "outputs": [
    {
     "data": {
      "image/png": "[encoded data removed]",
      "text/plain": [
       "<Figure size 432x288 with 1 Axes>"
      ]
     },
     "metadata": {
      "needs_background": "light"
     },
     "output_type": "display_data"
    }
   ],
   "source": [
    "plt.hist(rest_data_chains['object_name_lower'].value_counts(), bins=100)\n",
    "plt.grid()\n",
    "plt.title('Распределение сетевых заведений по количеству заведений в сети')\n",
    "plt.ylabel('Количество сетей')\n",
    "plt.xlabel('Количество заведений в сети')\n",
    "plt.show()"
   ]
  },
  {
   "cell_type": "code",
   "execution_count": 24,
   "id": "f6a5dc13",
   "metadata": {},
   "outputs": [
    {
     "name": "stdout",
     "output_type": "stream",
     "text": [
      "Максимальное количество заведений в сети: 188\n"
     ]
    }
   ],
   "source": [
    "print('Максимальное количество заведений в сети:',\n",
    "      rest_data[rest_data['chain']=='да']['object_name_lower'].value_counts()[0])"
   ]
  },
  {
   "cell_type": "markdown",
   "id": "1cdb3f97",
   "metadata": {},
   "source": [
    "Наибольшее количество сетей имеет до 20 заведений, но есть и большие сети до 188 заведений в сети.\n",
    "\n",
    "Рассмотрим среднее количество посадочных мест в заведении по сетям."
   ]
  },
  {
   "cell_type": "code",
   "execution_count": 25,
   "id": "218ca5f1",
   "metadata": {
    "scrolled": true
   },
   "outputs": [
    {
     "data": {
      "image/png": "[encoded data removed]",
      "text/plain": [
       "<Figure size 432x288 with 1 Axes>"
      ]
     },
     "metadata": {
      "needs_background": "light"
     },
     "output_type": "display_data"
    }
   ],
   "source": [
    "plt.hist(rest_data_chains.pivot_table(index='object_name_lower', values='number'), bins=100)\n",
    "plt.grid()\n",
    "plt.title('Распределение сетевых заведений по среднему количеству посадочных мест')\n",
    "plt.ylabel('Количество сетей')\n",
    "plt.xlabel('Среднее количество посадочных мест')\n",
    "plt.show()"
   ]
  },
  {
   "cell_type": "markdown",
   "id": "039eac52",
   "metadata": {},
   "source": [
    "У наибольшего количества сетей среднее количество посадочных мест в сети не превышает 50, однако есть сети со средним количеством посадочных мест более 300.\n",
    "\n",
    "Посмотрим, есть ли зависимость среднего количества посадочных мест от количества заведений в сети. "
   ]
  },
  {
   "cell_type": "code",
   "execution_count": 26,
   "id": "12f2c3a5",
   "metadata": {},
   "outputs": [],
   "source": [
    "#вынесем в отдельный датафрейм количество заведений и среднее количество посадочных мест в заведениях сети\n",
    "count_and_number_chains = rest_data_chains.pivot_table(index='object_name_lower',\n",
    "                                                      aggfunc={'id':'count', 'number':'mean'})\\\n",
    "                                            .rename(columns={'id':'count', 'number':'mean_number'})"
   ]
  },
  {
   "cell_type": "code",
   "execution_count": 27,
   "id": "91660c54",
   "metadata": {
    "scrolled": true
   },
   "outputs": [
    {
     "data": {
      "image/png": "[encoded data removed]",
      "text/plain": [
       "<Figure size 432x288 with 1 Axes>"
      ]
     },
     "metadata": {
      "needs_background": "light"
     },
     "output_type": "display_data"
    }
   ],
   "source": [
    "sns.scatterplot(x=\"count\", y=\"mean_number\",\n",
    "linewidth=0, alpha=0.3,\n",
    "data=count_and_number_chains)\n",
    "plt.title('''Зависимость среднего количества посадочных мест в\n",
    "          заведении от количества заведений в сети''')\n",
    "plt.xlabel('Количество заведений в сети')\n",
    "plt.ylabel('Среднее количество посадочных мест')\n",
    "plt.grid()\n",
    "plt.show()"
   ]
  },
  {
   "cell_type": "code",
   "execution_count": 28,
   "id": "dbdd476f",
   "metadata": {},
   "outputs": [
    {
     "name": "stdout",
     "output_type": "stream",
     "text": [
      "Корреляция среднего количества посадочных мест в сети от количества заведений в сети: -0.038\n"
     ]
    }
   ],
   "source": [
    "print('Корреляция среднего количества посадочных мест в сети от количества заведений в сети:',\n",
    "     round(count_and_number_chains['mean_number'].corr(count_and_number_chains['count']),3))"
   ]
  },
  {
   "cell_type": "markdown",
   "id": "72371524",
   "metadata": {},
   "source": [
    "Корреляция среднего количества посадочных мест в сети от количества заведений в сети отсутствует, тем не менее по графику можно сделать выводы:\n",
    "- большое среднее количество посадочных мест имеют небольшие сети до 10 заведений;\n",
    "- вне зависимости от количества заведений в сети преобладают сети со средним количеством посадочных мест до 150. "
   ]
  },
  {
   "cell_type": "markdown",
   "id": "6e56d48f",
   "metadata": {},
   "source": [
    "<span style=\"color: blue\">Разделим сети на 4 категории:\n",
    "- с небольшим количеством заведений и небольшим количеством посадочных мест;\n",
    "- с небольшим количеством заведений и большим количеством посадочных мест;\n",
    "- с большим количеством заведений и небольшим количеством посадочных мест;\n",
    "- с большим количеством заведений и большим количеством посадочных мест.\n",
    "\n",
    "Примем значение как большое, если оно больше 75% остальных значений. Для этого посчитаем третий квартиль для среднего количества посадочных мест и количества заведений в сети.</span>"
   ]
  },
  {
   "cell_type": "code",
   "execution_count": 29,
   "id": "d36e582a",
   "metadata": {},
   "outputs": [
    {
     "data": {
      "text/plain": [
       "(10.0, 85.0)"
      ]
     },
     "execution_count": 29,
     "metadata": {},
     "output_type": "execute_result"
    }
   ],
   "source": [
    "many_rests = round(np.percentile(count_and_number_chains['count'], 75), 0)\n",
    "many_seats = round(np.percentile(count_and_number_chains['mean_number'], 75), 0)\n",
    "many_rests, many_seats"
   ]
  },
  {
   "cell_type": "code",
   "execution_count": 30,
   "id": "12979851",
   "metadata": {},
   "outputs": [],
   "source": [
    "def chain_class(row):\n",
    "    count = row['count']\n",
    "    mean_number = row['mean_number']\n",
    "    if (count < many_rests) and (mean_number < many_seats):\n",
    "        return('немного заведений, немного мест')\n",
    "    elif (count < many_rests) and (mean_number >= many_seats):\n",
    "        return('немного заведений, много мест')\n",
    "    elif (count >= many_rests) and (mean_number < many_seats):\n",
    "        return('много заведений, немного мест')\n",
    "    else:\n",
    "        return('много заведений, много мест')        "
   ]
  },
  {
   "cell_type": "code",
   "execution_count": 31,
   "id": "f9f20eaa",
   "metadata": {},
   "outputs": [],
   "source": [
    "count_and_number_chains['chain_class'] = count_and_number_chains.apply(chain_class, axis=1)"
   ]
  },
  {
   "cell_type": "code",
   "execution_count": 32,
   "id": "4d29a615",
   "metadata": {},
   "outputs": [
    {
     "data": {
      "text/plain": [
       "немного заведений, немного мест    0.546392\n",
       "много заведений, немного мест      0.201031\n",
       "немного заведений, много мест      0.185567\n",
       "много заведений, много мест        0.067010\n",
       "Name: chain_class, dtype: float64"
      ]
     },
     "execution_count": 32,
     "metadata": {},
     "output_type": "execute_result"
    }
   ],
   "source": [
    "count_and_number_chains.chain_class.value_counts()/len(count_and_number_chains)"
   ]
  },
  {
   "cell_type": "markdown",
   "id": "cef143fe",
   "metadata": {},
   "source": [
    "<span style=\"color: blue\">C вероятностью 55% случайно выбранная сеть будет небольшой (до 10 заведений) с небольшим средним количеством посадочных мест (до 85).</span>"
   ]
  },
  {
   "cell_type": "markdown",
   "id": "11eaeae8",
   "metadata": {},
   "source": [
    "<a id=\"mean_by_type\"></a>\n",
    "### Среднее количество посадочных мест по видам объекта общественного питания"
   ]
  },
  {
   "cell_type": "markdown",
   "id": "9450d01c",
   "metadata": {},
   "source": [
    "Посчитаем среднее количество посадочных мест для каждого вида объекта общественного питания."
   ]
  },
  {
   "cell_type": "code",
   "execution_count": 33,
   "id": "596df9e4",
   "metadata": {
    "scrolled": true
   },
   "outputs": [
    {
     "data": {
      "text/plain": [
       "object_type\n",
       "столовая                             103.0\n",
       "ресторан                              80.0\n",
       "бар                                   35.0\n",
       "буфет                                 32.0\n",
       "кафе                                  30.0\n",
       "кафетерий                              6.0\n",
       "предприятие быстрого обслуживания      5.0\n",
       "закусочная                             0.0\n",
       "магазин (отдел кулинарии)              0.0\n",
       "Name: number, dtype: float64"
      ]
     },
     "execution_count": 33,
     "metadata": {},
     "output_type": "execute_result"
    }
   ],
   "source": [
    "rest_data.groupby('object_type')['number'].agg('median').sort_values(ascending=False)"
   ]
  },
  {
   "cell_type": "code",
   "execution_count": 34,
   "id": "5a7c8c28",
   "metadata": {},
   "outputs": [
    {
     "data": {
      "image/png": "[encoded data removed]",
      "text/plain": [
       "<Figure size 1080x288 with 1 Axes>"
      ]
     },
     "metadata": {
      "needs_background": "light"
     },
     "output_type": "display_data"
    }
   ],
   "source": [
    "plt.figure(figsize=(15, 4))\n",
    "sns.barplot(x='object_type', y='number', data=rest_data, estimator=np.median)\n",
    "plt.title('Медианное количество посадочных мест в заведении по видам ООП')\n",
    "plt.xlabel('Вид объекта общественного питания')\n",
    "plt.ylabel('Медианное количество посадочных мест')\n",
    "\n",
    "\n",
    "old_ticks, old_labels = plt.xticks()\n",
    "plt.xticks(old_ticks, ['\\n'.join(label.get_text().split()) for label in old_labels])\n",
    "\n",
    "\n",
    "plt.grid()\n",
    "plt.show()"
   ]
  },
  {
   "cell_type": "markdown",
   "id": "528b0ac7",
   "metadata": {},
   "source": [
    "Наибольшее <span style=\"color: blue\">медианное</span> количество посадочных мест у столовых (<span style=\"color: blue\">103</span>), наименьшее - у отделов кулинарии в магазинах (<span style=\"color: blue\">0</span>)."
   ]
  },
  {
   "cell_type": "markdown",
   "id": "d60aff9e",
   "metadata": {},
   "source": [
    "<a id=\"10_streets\"></a>\n",
    "### Топ-10 улиц по количеству объектов общественного питания"
   ]
  },
  {
   "cell_type": "markdown",
   "id": "3c37133a",
   "metadata": {},
   "source": [
    "Выделим названия улиц в отдельную колонку датафрейма. \n",
    "\n",
    "Для этого проведем лемматизацию, найдем наиболее распространенные названия улиц (улица, проспект, шоссе), чтобы использовать их как маркеры."
   ]
  },
  {
   "cell_type": "code",
   "execution_count": 35,
   "id": "94601293",
   "metadata": {},
   "outputs": [],
   "source": [
    "def lemm(df, col):\n",
    "    df = df.dropna(subset=[col]).reset_index(drop=True)\n",
    "    lemm_list = []\n",
    "    for i in range(len(df)):\n",
    "        lemm_list.append(df.loc[i, col])\n",
    "    lemm_str = ' '.join(lemm_list)\n",
    "    m = Mystem()\n",
    "    lemm_list = m.lemmatize(lemm_str)\n",
    "    print(Counter(lemm_list))"
   ]
  },
  {
   "cell_type": "code",
   "execution_count": 36,
   "id": "cb5cb585",
   "metadata": {},
   "outputs": [
    {
     "name": "stdout",
     "output_type": "stream",
     "text": [
      "Counter({' ': 72914, ', ': 38404, 'город': 15698, 'москва': 15303, 'дом': 14841, 'улица': 9088, '1': 4636, 'строение': 4154, 'корпус': 2770, '2': 2505, 'проспект': 1481, 'шоссе': 1325, '3': 1263, '-': 1250, '/': 1189, '4': 957, '5': 861, 'проезд': 794, 'бульвар': 754, 'переулок': 725, '6': 683, 'большой': 657, '7': 632, '8': 551, '10': 524, '9': 497, '12': 493, 'я': 470, 'поселение': 420, 'й': 410, '11': 405, 'набережная': 390, 'площадь': 385, '13': 371, '15': 370, '14': 345, '16': 339, 'владение': 309, '22': 306, 'вал': 295, '18': 294, '20': 294, '17': 286, '26': 284, '21': 282, 'ленинградский': 273, '19': 270, 'ленинский': 265, 'зеленоград': 232, '24': 220, '23': 209, '27': 208, 'мир': 204, '25': 194, 'профсоюзный': 183, 'пресненский': 178, 'московский': 172, 'арбат': 169, '32': 169, '29': 168, 'варшавский': 167, '33': 153, 'малый': 152, 'километр': 151, 'маршал': 147, 'сосенский': 141, '36': 139, '28': 137, 'тверской': 136, '30': 133, 'вернадский': 132, 'поселок': 126, '31': 125, '1А': 125, 'деревня': 123, 'киевский': 119, 'каширский': 118, 'академик': 115, 'кутузовский': 114, 'сущевский': 113, '35': 112, 'кировоградский': 110, 'новый': 109, '34': 107, 'нижний': 105, 'дмитровский': 103, 'ходынский': 102, '42': 92, 'мичуринский': 92, 'слобода': 90, '13А': 88, '39': 87, 'красный': 86, '3А': 85, 'алтуфьевский': 84, 'измайловский': 83, 'садовый': 82, '40': 81, 'ярославский': 81, '5А': 80, 'пятницкая': 80, 'семеновский': 80, 'земляной': 80, 'андропов': 79, 'вавилов': 78, 'ямский': 78, '16А': 78, 'ореховый': 78, '57': 77, 'покровка': 77, '56': 76, 'люблинский': 76, 'домовладение': 76, 'мясницкий': 75, 'миклухо-маклай': 75, 'комсомольский': 74, 'красносельский': 74, 'хорошевский': 73, '37': 72, 'верхний': 70, 'пятницкий': 70, 'калужский': 70, 'автозаводский': 70, '2А': 69, 'парковый': 69, '59': 69, 'лесной': 68, '14А': 67, '74': 66, 'ярцевский': 66, '38': 65, 'волгоградский': 63, 'дмитровка': 63, '51': 62, '43': 62, 'открытый': 62, '211': 62, 'микрорайон': 61, '47': 60, '44': 60, '71': 60, 'маросейка': 60, 'щелковский': 60, 'коммунарка': 60, '48': 59, 'троицк': 58, 'никитский': 57, '50': 56, '4А': 56, 'сооружение': 56, 'первомайский': 55, 'митинский': 55, '41': 54, 'рязанский': 54, '53': 53, '52': 52, '8А': 51, 'мытный': 51, 'тульский': 51, 'энтузиаст': 51, 'новодмитровский': 51, '58': 50, 'аллея': 50, '2Б': 50, '1Б': 50, ' \"': 50, '\", ': 50, 'нагатинский': 49, 'поле': 49, 'олимпийский': 49, 'вокзал': 49, 'сходненский': 48, 'генерал': 47, 'таганский': 47, 'щербинка': 47, 'театральный': 46, 'шаболовка': 45, 'серпуховский': 45, 'усачев': 45, 'цветной': 45, '45': 44, 'грузинский': 44, 'александра': 44, '55': 43, 'вешняковский': 43, '62': 43, 'новослободский': 43, 'дмитрий': 43, 'адмирал': 43, 'багратионовский': 43, 'бутырский': 42, 'волоколамский': 42, '46': 42, '64': 42, 'новоясеневский': 42, '6А': 42, 'бронный': 41, 'краснопресненский': 41, '60': 40, 'рождественский': 39, 'павелецкий': 39, 'сокольнический': 39, 'октябрь': 39, 'шереметьевский': 39, 'дубнинский': 38, 'манежный': 38, 'бирюзов': 37, 'народный': 37, '20А': 36, 'пролетарский': 36, 'ломоносовский': 36, 'декабрист': 36, 'братиславский': 36, '22А': 36, 'боровский': 36, 'рублевский': 35, 'северный': 35, '7А': 35, 'гора': 35, '54': 34, 'бауманский': 34, 'ополчение': 34, 'петровка': 34, 'сретенка': 34, '9А': 34, 'кольцевой': 34, 'автодорога': 34, 'владимирский': 33, 'воскресенское': 33, 'борисовский': 33, 'кожуховская': 32, 'нижегородский': 32, '61А': 32, 'петровский': 32, 'а': 32, 'шипиловский': 32, 'дербеневский': 32, 'авиамоторный': 31, 'зеленый': 31, 'кронштадтский': 31, '61': 31, 'садовнический': 31, 'смоленский': 31, 'чечерский': 31, '15А': 31, 'головинский': 31, 'территория': 31, 'болотниковский': 30, '66': 30, '24А': 30, '11А': 30, 'рочдельский': 30, 'фестивальный': 30, 'чертановский': 30, 'внуковский': 30, '100': 29, 'севастопольский': 29, '10А': 29, 'кузнецкий': 29, 'мост': 29, 'перерва': 29, 'никольская': 29, 'кудринская': 28, 'кожевнический': 28, 'сухаревский': 28, '70': 28, 'год': 28, '25А': 28, '49': 27, 'маяк': 27, 'кржижановский': 27, 'страстный': 27, 'новинский': 27, 'шарикоподшипниковский': 27, 'летие': 27, 'парк': 27, 'балаклавский': 26, 'басманный': 26, 'бескудниковский': 26, 'якиманка': 26, 'старый': 26, 'пресня': 26, 'неглинный': 26, 'октябрьский': 26, 'правда': 26, 'симферопольский': 26, 'осенний': 26, '146': 26, 'старокачаловская': 26, 'летчик': 26, 'черемушкинский': 26, '109': 26, '65': 25, '89': 25, '75': 25, 'красноказарменный': 25, 'лесков': 25, 'люсиновский': 25, 'орджоникидзе': 25, '73': 25, 'полянка': 25, '31А': 25, 'южнопортовый': 25, 'роща': 25, '126': 25, 'азовский': 24, 'барклый': 24, 'нахимовский': 24, 'кантемировский': 24, 'фрунзенский': 24, 'марксистский': 24, '69': 24, 'остоженка': 24, 'пришвин': 24, 'свобода': 24, 'ульянов': 24, '12А': 24, 'пруд': 24, 'чертаново': 24, 'липовый': 24, 'монахова': 24, '26А': 24, 'вятский': 24, 'останкинский': 24, 'воронцовский': 23, 'королева': 23, 'масловка': 23, 'михалковский': 23, 'хабаров': 23, '68': 22, '82': 22, 'сельскохозяйственный': 22, 'смольный': 22, 'юный': 22, 'ленинец': 22, 'крылатский': 22, 'щукинский': 22, '80': 22, 'электродный': 22, 'снежный': 22, 'мосрентген': 22, '72': 21, '112': 21, 'судостроительный': 21, 'покрышкин': 21, 'марушкинский': 21, 'десеновский': 21, 'рождественка': 21, '18А': 21, 'планерный': 21, 'дорожный': 21, 'жуков': 20, 'мастерков': 20, 'новозаводский': 20, '67': 20, 'разумовский': 20, 'сиреневый': 20, 'тушинский': 20, 'мячковский': 20, 'н': 20, '76': 20, 'академический': 19, 'днепропетровский': 19, 'енисейский': 19, 'каретный': 19, 'зубовский': 19, 'краснопрудный': 19, 'перовский': 19, 'преображенский': 19, 'стромынка': 19, 'тимур': 19, 'фрунзе': 19, 'щепкин': 19, 'широкий': 19, 'дубравный': 19, '4Г': 19, '23А': 19, 'россошанский': 19, 'берсеневский': 19, 'спасоглинищевский': 19, '102': 19, 'звенигородский': 19, 'сусальный': 19, '79': 18, '97': 18, 'мус': 18, 'джалиля': 18, 'квартал': 18, 'коломенский': 18, 'космонавт': 18, 'можайский': 18, 'русаковская': 18, 'саввинский': 18, 'спасский': 18, 'чистопрудный': 18, 'шмитовский': 18, 'донский': 18, 'привольный': 18, 'новокосинский': 18, 'бирюлевский': 18, 'радищевский': 18, 'солянка': 18, '163А': 18, 'рязановский': 18, '86А': 18, 'брестский': 17, 'ферганский': 17, 'свободный': 17, 'лубянский': 17, 'тихорецкий': 17, 'филевский': 17, 'черкизовский': 17, 'удальцов': 17, 'село': 17, 'щаповский': 17, 'катуков': 17, 'центральный': 17, 'литовский': 17, '32А': 17, 'ряд': 17, 'новочеркасский': 17, 'николоямская': 17, 'сыромятнический': 17, 'татарский': 16, 'ботанический': 16, 'валовой': 16, 'зеленодольский': 16, 'косыгин': 16, 'краснобогатырский': 16, 'космодамианский': 16, '105': 16, 'рогожский': 16, '3Б': 16, 'туристский': 16, '1905': 16, '63': 16, 'шоссейный': 16, 'щербаковский': 16, 'анохин': 16, 'бакунинский': 16, 'дубининский': 16, 'д': 16, 'и': 16, '86': 15, '125': 15, 'дежнев': 15, 'кулаков': 15, '87': 15, 'мосфильмовской': 15, 'новокузнецкий': 15, 'рябиновый': 15, '88': 15, 'пироговская': 15, 'трубный': 15, 'тимирязевский': 15, 'трофимов': 15, 'уральский': 15, 'юность': 15, 'в': 15, 'южнобутовский': 15, 'святоозерский': 15, 'обручев': 15, 'воскресенский': 15, 'тупик': 15, 'озерный': 15, '17А': 15, 'сергей': 15, 'летниковский': 15, 'бутлерова': 14, 'герой': 14, 'панфиловец': 14, '19А': 14, '95': 14, '77': 14, 'нагорный': 14, 'ордынка': 14, 'покровский': 14, 'самотечная': 14, 'солнцевский': 14, 'гарибальди': 14, 'ульянин': 14, '№': 14, 'чонгарский': 14, '90': 14, 'береговой': 14, 'липецкий': 14, 'лев': 14, 'ясеневый': 14, '150': 14, 'сигнальный': 14, '129А': 14, 'красногвардейский': 14, 'беговой': 13, '84': 13, 'капотня': 13, 'ладожский': 13, 'новогиреевский': 13, 'образцова': 13, '98': 13, 'яна': 13, 'райнис': 13, 'лазарев': 13, 'авиационный': 13, 'краснопахорское': 13, '21А': 13, 'рейсовый': 13, 'часовой': 13, 'плещеев': 13, 'очаковский': 13, 'сосновый': 13, 'староватутинский': 13, 'толстой': 13, 'сосенка': 13, 'абрамцевский': 12, 'бабушкин': 12, 'бакинский': 12, '81': 12, '62А': 12, 'краснодарский': 12, '91': 12, 'лиственничный': 12, '118': 12, 'петрозаводский': 12, 'полярный': 12, 'селезневская': 12, 'стремянный': 12, 'флотский': 12, 'ясный': 12, 'жулебинский': 12, 'новочеремушкинский': 12, 'холм': 12, 'коровинский': 12, '96': 12, '104': 12, 'березовый': 12, 'бахрушин': 12, 'спартаковский': 12, '30А': 12, 'подольский': 12, 'гостиничный': 12, 'каланчевская': 12, 'радужный': 12, '153': 12, 'крюковский': 12, 'макеев': 12, 'железнодорожный': 12, 'буденный': 11, 'казаков': 11, 'долгоруковский': 11, 'кастанаевский': 11, 'павел': 11, 'крутицкий': 11, '78': 11, 'патриарший': 11, 'мневники': 11, '132': 11, 'линия': 11, 'славянский': 11, 'столешников': 11, 'сергий': 11, 'радонежский': 11, 'поречный': 11, 'скобелевский': 11, 'минский': 11, '1Г': 11, 'стан': 11, 'юшуньский': 11, 'пречистенский': 11, '59А': 11, 'кисловский': 11, 'амурский': 11, 'энгельс': 11, 'почтовый': 11, 'курсант': 11, '36А': 11, 'лобненский': 11, 'востряковский': 11, 'золоторожский': 11, 'молостовой': 11, 'саянский': 11, 'белов': 11, 'кустанайский': 11, 'чуйков': 11, 'солженицын': 11, 'завод': 11, 'макаров': 11, 'захаров': 11, 'партийный': 11, 'нововатутинский': 11, 'анадырский': 10, 'иван': 10, 'белореченский': 10, 'волгин': 10, '92': 10, 'воронежский': 10, 'марта': 10, 'гоголевский': 10, 'кабельный': 10, 'козихинский': 10, 'корчагин': 10, 'пречистенка': 10, 'менжинский': 10, 'овчинниковский': 10, 'островитянов': 10, 'отрадный': 10, 'застава': 10, 'симоновский': 10, 'строгинский': 10, '142': 10, 'елецкий': 10, 'пилюгин': 10, '101': 10, 'суздальский': 10, 'живописный': 10, 'фридрих': 10, '14Б': 10, 'зоя': 10, 'волков': 10, 'огородный': 10, 'климентовский': 10, 'крымский': 10, '158': 10, 'гурьянов': 10, 'складочный': 10, '11Е': 10, 'правобережный': 10, '87Б': 10, 'талалихин': 9, 'бойцовый': 9, 'булатниковский': 9, 'борис': 9, 'гнездниковский': 9, 'исаковский': 9, 'косинский': 9, 'коштоянц': 9, 'красин': 9, 'кривоколенный': 9, '116': 9, 'черногрязский': 9, 'соловьиный': 9, 'фабрициус': 9, 'хабаровский': 9, 'янгель': 9, 'ангел': 9, 'барышиха': 9, 'белобородов': 9, 'соколово': 9, 'мещерский': 9, 'тухачевский': 9, '25Б': 9, 'поварской': 9, 'паустовский': 9, 'донской': 9, 'магистральный': 9, 'лобачевский': 9, 'павловский': 9, 'школьный': 9, 'луганский': 9, 'загорьевский': 9, 'совхозный': 9, 'текстильщик': 9, 'новомарьинский': 9, 'римский': 9, 'корсаков': 9, '24Б': 9, '71А': 9, 'голубинская': 9, '86Б': 9, 'локомотивный': 9, 'панфиловский': 9, '33А': 9, 'охотный': 9, 'авиатор': 8, 'вельяминовский': 8, 'архитектор': 8, 'власов': 8, 'волхонка': 8, 'коровий': 8, 'домодедовский': 8, 'каменщик': 8, 'каховка': 8, 'кусковский': 8, 'матвеевский': 8, 'медынский': 8, 'молодогвардейский': 8, 'брюсов': 8, 'орликов': 8, 'плеханов': 8, 'рыбалко': 8, 'спиридоньевский': 8, 'сталевар': 8, 'ташкентский': 8, 'череповецкий': 8, 'черняховский': 8, 'шокальский': 8, 'вольская': 8, 'новотушинский': 8, 'котельнический': 8, 'ушаков': 8, 'рудневка': 8, 'лухмановский': 8, '111': 8, 'столетов': 8, 'радиальный': 8, 'озерковский': 8, 'вороновский': 8, '39А': 8, 'балчуг': 8, 'добролюбов': 8, 'моховой': 8, 'черкасский': 8, '128': 8, 'теплый': 8, 'космодемьянских': 8, '8Б': 8, 'новосущевский': 8, 'столярный': 8, '12Б': 8, 'европа': 8, 'кетчерская': 8, 'марьина': 8, 'франко': 8, 'воздвиженка': 8, 'рабочий': 8, 'котляковский': 8, 'веневская': 8, 'поляна': 8, '27А': 8, 'рокоссовский': 8, '165': 8, 'походный': 8, 'старопетровский': 8, 'бережковский': 7, 'берзарина': 7, 'лубянка': 7, 'докукина': 7, 'кавказский': 7, 'коптевский': 7, '83': 7, '37А': 7, '99': 7, 'мантулинский': 7, 'милютинский': 7, '124': 7, 'нежинский': 7, 'новопетровский': 7, 'новорязанский': 7, 'панфилов': 7, 'партизанский': 7, 'переяславский': 7, 'плющиха': 7, 'б': 7, 'сретенский': 7, 'ставропольский': 7, 'стартовый': 7, 'таллинский': 7, 'трифоновский': 7, 'хамовнический': 7, 'шверник': 7, '85': 7, 'энергетический': 7, 'яблочков': 7, '117': 7, '163': 7, 'воротынский': 7, 'марфинский': 7, 'новокуркинский': 7, 'родионовский': 7, 'барышевский': 7, 'говоровый': 7, 'троицкий': 7, 'кленовый': 7, '15Б': 7, 'университетский': 7, '11Б': 7, '9Б': 7, '3В': 7, 'усиевич': 7, 'клинский': 7, 'харьковский': 7, 'загородный': 7, 'газопровод': 7, '3Г': 7, 'шенкурский': 7, 'гражданский': 7, '7Б': 7, 'костромской': 7, 'шолохов': 7, 'бухвостов': 7, 'соколина': 7, 'раменки': 7, 'алексеев': 7, 'западный': 7, 'куусинить': 7, 'проектировать': 7, 'салтыковский': 7, 'ключевой': 7, 'москворечье': 7, 'хибинский': 7, 'малахитовый': 7, 'беловежский': 7, 'карачаровский': 7, 'полбин': 7, 'ратный': 7, 'мытищинский': 7, 'угрешский': 7, '45А': 7, 'куликовская': 7, 'изюмская': 7, 'руднев': 7, 'болотный': 7, 'джавахарлал': 7, 'нера': 7, 'краснопролетарский': 7, 'солнечный': 7, 'ступинский': 7, 'холодильный': 7, '160': 7, 'духовский': 7, 'знамя': 7, 'квесисский': 7, 'вражек': 6, 'ангарский': 6, 'байкальский': 6, 'бестужев': 6, 'бибиревский': 6, 'василевский': 6, 'вилис': 6, 'лацис': 6, 'галушкин': 6, 'гиляровский': 6, 'ти': 6, 'комиссар': 6, 'дубровский': 6, 'дудинка': 6, 'заревый': 6, 'кибальчич': 6, '40А': 6, 'златоустинский': 6, 'коненков': 6, 'корнейчук': 6, 'милашенков': 6, '5Б': 6, 'новгородский': 6, 'окружной': 6, 'осташковский': 6, '94': 6, 'средний': 6, 'ивантеевский': 6, 'раскова': 6, 'романов': 6, 'руставели': 6, 'стратонавт': 6, 'спиридоновка': 6, 'вишневый': 6, 'факельный': 6, 'хачатурян': 6, 'херсонский': 6, 'благовещенский': 6, '108': 6, 'грин': 6, 'веерный': 6, '152': 6, 'тверская': 6, 'греков': 6, 'маломосковский': 6, 'дмитриевский': 6, 'машиностроение': 6, 'гризодубова': 6, 'пахра': 6, 'звездный': 6, 'баррикадный': 6, 'новатор': 6, '47А': 6, 'ильинка': 6, 'белозерская': 6, 'харитоньевский': 6, 'тишинский': 6, '18Б': 6, 'сумской': 6, 'одесский': 6, 'софья': 6, 'ковалевская': 6, 'вучетич': 6, 'керамический': 6, 'клара': 6, 'цеткин': 6, 'наметкин': 6, '13Б': 6, 'карамышевский': 6, 'ткацкий': 6, 'аэропорт': 6, 'пушкинский': 6, '1Д': 6, '17Б': 6, 'снайперский': 6, 'федеративный': 6, 'каспийский': 6, 'гончарный': 6, 'товарищеский': 6, 'ижорский': 6, 'серп': 6, 'молот': 6, 'василий': 6, 'петушкова': 6, 'касаткина': 6, 'полковой': 6, '63Б': 6, '169': 6, '133': 6, 'варга': 6, 'бартеневский': 6, 'улоф': 6, 'пальма': 6, 'староваганьковский': 6, '26Б': 6, 'викторенко': 6, 'савелкинский': 6, 'хлебозаводский': 6, 'городской': 6, 'электролитный': 6, 'новоданиловский': 6, 'бесединский': 6, 'крекшино': 6, 'кокошкин': 6, 'ж': 6, 'к': 6, 'дубровка': 6, '141': 6, 'сервантес': 6, 'лазоревый': 6, 'алтайский': 5, 'амундсен': 5, 'боткинский': 5, 'бочков': 5, '75А': 5, 'кравченко': 5, '157': 5, 'доватор': 5, 'дубосековский': 5, 'изумрудный': 5, 'керченский': 5, 'кочновский': 5, 'краснодонский': 5, 'лебедянский': 5, '121': 5, 'знаменский': 5, 'мурановский': 5, 'реутовский': 5, 'триумфальный': 5, 'саратовский': 5, 'стрелецкий': 5, 'студеный': 5, 'студенческий': 5, 'палашевский': 5, 'трехгорный': 5, 'фомичева': 5, 'химкинский': 5, 'хлобыстов': 5, 'хуторской': 5, 'чечулин': 5, '114': 5, 'яузский': 5, 'андроньевский': 5, 'авиаконструктор': 5, '122': 5, 'толмачевский': 5, 'ямской': 5, 'молодцов': 5, 'суворовский': 5, 'сколковский': 5, 'щаповый': 5, 'роговский': 5, 'кленовский': 5, 'шлюзовой': 5, 'тихвинский': 5, 'трехпрудный': 5, 'гороховский': 5, 'потаповский': 5, 'введенский': 5, 'вильнюсский': 5, 'псковский': 5, 'клязьминский': 5, 'онежский': 5, 'ганецкий': 5, '51А': 5, 'твардовский': 5, 'паршина': 5, 'челябинский': 5, 'вознесенский': 5, 'рощинский': 5, 'малыгин': 5, 'скульптор': 5, 'мухина': 5, 'новоорловский': 5, '38А': 5, '28А': 5, '10Б': 5, 'задонский': 5, 'годовикова': 5, 'шкулев': 5, 'донецкий': 5, 'волжский': 5, 'курьяновский': 5, 'батайский': 5, 'калитниковский': 5, 'пермский': 5, 'лермонтовский': 5, 'никулинский': 5, 'лукинский': 5, 'электрозаводский': 5, 'олений': 5, 'иркутский': 5, 'тагильский': 5, 'рыбинский': 5, 'волочаевский': 5, '119А': 5, 'перервинский': 5, 'якиманский': 5, 'неверовский': 5, '37Б': 5, 'шокина': 5, 'новокрюковский': 5, 'братеевский': 5, 'советский': 5, 'солянский': 5, 'туполев': 5, 'совхоз': 5, 'дачный': 5, '5Д': 5, '4062': 5, 'ермолаевский': 5, 'саларьев': 5, 'сивцев': 4, 'башиловский': 4, 'велозаводский': 4, 'весковский': 4, 'гастелло': 4, 'чаянов': 4, 'дорогомиловский': 4, 'левшинский': 4, 'лосиноостровский': 4, 'лялин': 4, 'магнитогорский': 4, 'макаренко': 4, 'машков': 4, 'металлург': 4, 'молчановка': 4, 'новинка': 4, 'оружейный': 4, 'сенной': 4, 'севанский': 4, 'леонтьевский': 4, 'трубниковский': 4, 'украинский': 4, 'новопесчаный': 4, 'сальвадор': 4, 'альенде': 4, 'мария': 4, 'ульянова': 4, 'цюрупа': 4, 'шухов': 4, 'международный': 4, 'миля': 4, 'лавочкин': 4, 'конный': 4, 'защитник': 4, '110': 4, 'новофедоровский': 4, 'юбилейный': 4, '46А': 4, 'лапшинка': 4, 'газетный': 4, 'тюленев': 4, 'скрябин': 4, 'панферов': 4, '57А': 4, 'кадашевская': 4, '39Б': 4, '52А': 4, 'сухонский': 4, 'пугачевский': 4, 'дружинниковский': 4, '317А': 4, 'внуково': 4, 'заводской': 4, 'константин': 4, '43А': 4, '6Б': 4, 'артековский': 4, '55А': 4, 'старокалужский': 4, 'перекопский': 4, 'путевой': 4, 'маленковский': 4, '800': 4, 'прянишников': 4, 'беломорский': 4, 'даниловский': 4, 'заповедный': 4, 'камчатский': 4, 'кирпичный': 4, '115': 4, '123': 4, 'скаковой': 4, 'зорге': 4, 'старопименовский': 4, '41А': 4, 'костомаровский': 4, 'радио': 4, 'солдатский': 4, 'знаменка': 4, 'труженик': 4, 'паромный': 4, 'ереванский': 4, 'бехтерев': 4, 'садовник': 4, 'кожуховский': 4, 'палехский': 4, '147': 4, 'седов': 4, 'пушечный': 4, 'протопоповский': 4, 'горбунов': 4, 'верейская': 4, 'ельнинский': 4, 'карманицкий': 4, 'судаков': 4, 'грайвороновская': 4, '208': 4, 'лихачевский': 4, 'новохохловский': 4, 'двинец': 4, 'май': 4, 'мироновский': 4, '104А': 4, '35Б': 4, 'иловайский': 4, 'сормовский': 4, '99А': 4, '28Б': 4, 'гоголь': 4, 'мелитопольский': 4, 'михайлово': 4, 'новостроевский': 4, 'вблизи': 4, '45Б': 4, 'лучевой': 4, 'просека': 4, 'колодезный': 4, 'гай': 4, '170Г': 4, '143': 4, 'карбышев': 4, 'бунинский': 4, 'глаголева': 4, 'строительный': 4, 'декабрьский': 4, 'корнилов': 4, 'ватутинка': 4, 'веласкес': 4, 'егор': 3, 'абакумов': 3, 'абельмановский': 3, '42Б': 3, '35А': 3, 'балтийский': 3, 'коктебельский': 3, 'бочвар': 3, 'бригадирский': 3, 'васильевский': 3, '103': 3, 'госпитальный': 3, 'гурьевский': 3, 'дыбенко': 3, 'матрос': 3, 'железняк': 3, 'житный': 3, 'зацепский': 3, 'ибрагимова': 3, 'конюшковский': 3, 'костяков': 3, 'краснохолмский': 3, 'лазаревский': 3, '148': 3, 'нижнелихоборский': 3, 'лужнецкий': 3, 'миллионщиков': 3, '114Б': 3, 'михайлов': 3, 'афанасьевский': 3, 'новокузьминский': 3, 'новодевичий': 3, 'окский': 3, 'победа': 3, 'погонный': 3, 'федор': 3, 'полетаев': 3, 'маша': 3, 'порываева': 3, 'просторный': 3, 'пырьев': 3, 'речник': 3, 'гагаринский': 3, 'талдомский': 3, 'тимошенко': 3, 'камергерский': 3, 'чапаевский': 3, 'элеваторный': 3, '140': 3, 'кузнецов': 3, 'лук': 3, '1805': 3, 'кашенкин': 3, 'луг': 3, 'полевой': 3, 'виноградов': 3, 'савицкий': 3, 'оболенский': 3, 'ружейный': 3, 'неопалимовский': 3, 'дорога': 3, 'полубояров': 3, 'колокольников': 3, 'мукомольный': 3, '34А': 3, 'крупская': 3, '83А': 3, 'душинский': 3, 'погодинский': 3, 'раушский': 3, 'каргопольский': 3, 'вспольный': 3, 'кондратьевский': 3, '8Г': 3, '44А': 3, 'кедровый': 3, 'капица': 3, 'гримау': 3, 'солнечногорский': 3, 'дегунинский': 3, '77А': 3, 'илимский': 3, 'пестель': 3, '50А': 3, '2Д': 3, '156': 3, 'довженко': 3, 'песчаный': 3, 'валдайский': 3, 'врубель': 3, 'авангардный': 3, 'алабян': 3, 'новопеределкинский': 3, 'чоботовский': 3, 'бутовский': 3, 'лаврушинский': 3, '29А': 3, 'лодочный': 3, 'розанов': 3, 'тихомиров': 3, 'сахаров': 3, 'уссурийский': 3, 'халтуринский': 3, '79А': 3, 'силикатный': 3, '4Б': 3, 'денисовский': 3, 'дружба': 3, '127': 3, 'поликарпов': 3, 'федосьин': 3, 'таймырский': 3, 'путинковский': 3, 'россолить': 3, 'лужники': 3, 'подколокольный': 3, 'полимерный': 3, '42А': 3, 'плющев': 3, 'фрязевский': 3, '40Б': 3, 'алма-атинский': 3, 'старокаширский': 3, 'промышленный': 3, 'китайгородский': 3, 'малыгина': 3, 'русанов': 3, 'напрудный': 3, 'олонецкий': 3, '106': 3, 'мурманский': 3, 'графский': 3, 'аргуновский': 3, 'толбухин': 3, 'бобруйский': 3, 'оршанский': 3, '1812': 3, 'фрезерный': 3, 'дровяной': 3, 'новорогожский': 3, 'остаповский': 3, 'ильменский': 3, 'турчанинов': 3, 'югорский': 3, 'монтажный': 3, 'эйзенштейн': 3, 'вильгельм': 3, 'пик': 3, '171': 3, 'хованская': 3, '123А': 3, 'высоковольтный': 3, '102А': 3, '30Б': 3, 'мясниковский': 3, 'круг': 3, '3Л': 3, '54А': 3, '69Г': 3, '41Б': 3, 'подъемный': 3, 'смирновский': 3, 'цимлянский': 3, '155': 3, 'марьинский': 3, 'старобитцевский': 3, 'кадыров': 3, 'щипок': 3, 'трубецкая': 3, '76А': 3, '2Г': 3, 'юровский': 3, 'автомоторный': 3, 'гашек': 3, 'зоологический': 3, 'яблоневый': 3, '31Г': 3, 'затонный': 3, 'староданиловский': 3, 'касимовский': 3, '152А': 3, 'толстопальцевый': 3, 'зацепа': 3, 'марушкин': 3, 'родник': 3, 'ерино': 3, 'шишкин': 3, 'лес': 3, 'фабрика': 3, 'имя': 3, 'николо': 3, '2309А': 3, 'луговой': 3, 'габричевский': 3, '75Г': 3, 'михневский': 3, 'бианка': 3, '144': 3, 'новолужнецкий': 3, 'богословский': 3, '116Д': 3, 'плотник': 3, 'бачуринский': 3, '175': 3, 'артамонов': 2, 'астраханский': 2, 'аэродромный': 2, 'будайский': 2, '143А': 2, '93': 2, 'вешний': 2, 'вода': 2, 'голованова': 2, 'городецкая': 2, 'даев': 2, 'дурова': 2, 'козловский': 2, 'коминтерн': 2, 'коновалов': 2, 'красноармейский': 2, 'казанец': 2, 'обыденский': 2, 'лестев': 2, 'мартеновский': 2, 'матросский': 2, 'тишина': 2, 'мещанский': 2, '120': 2, 'мусоргский': 2, 'кисельный': 2, 'воронцовый': 2, 'подбельский': 2, 'поклонный': 2, 'попутный': 2, '113': 2, 'проходчик': 2, 'пудовкин': 2, 'петр': 2, 'самотечный': 2, 'семеновская': 2, 'сетуньский': 2, 'старокирочный': 2, 'стасова': 2, 'танковый': 2, 'николопесковский': 2, 'холмогорский': 2, 'чаплыгин': 2, 'шелепихинский': 2, '438': 2, '1106': 2, 'палиха': 2, 'новоспасский': 2, '1456': 2, 'пронский': 2, 'курсовой': 2, 'уваровский': 2, 'никольский': 2, '1В': 2, 'серафимович': 2, 'рубцовский': 2, 'глубокий': 2, '165Е': 2, 'соколовский': 2, '533': 2, 'староконюшенный': 2, 'бурденко': 2, 'вороново': 2, 'власовый': 2, 'спортивный': 2, 'мостотреста': 2, 'овечкин': 2, '4922': 2, 'заводский': 2, 'станиславский': 2, 'грайвороновский': 2, 'угличский': 2, 'фотиева': 2, 'строитель': 2, 'ветошный': 2, 'жемчугова': 2, 'бусиновский': 2, 'горка': 2, 'новомихалковский': 2, 'бобров': 2, 'заморенов': 2, 'литвин': 2, 'седой': 2, 'главный': 2, 'переведеновский': 2, 'лефортовский': 2, 'каштановый': 2, 'царев': 2, 'светлый': 2, '129': 2, 'никопольская': 2, '103А': 2, 'карамзин': 2, 'челомей': 2, 'бакулев': 2, 'кедров': 2, 'федоренко': 2, 'зеленоградский': 2, 'космодемьянский': 2, 'инженерный': 2, 'николай': 2, 'химушин': 2, 'панкратьевский': 2, 'селигерский': 2, 'институтский': 2, 'санников': 2, 'амбулаторный': 2, 'левобережный': 2, 'юннат': 2, 'приречный': 2, 'писцовый': 2, 'короленко': 2, 'конев': 2, 'никитинская': 2, 'уланский': 2, '58А': 2, 'бураков': 2, 'федина': 2, 'армянский': 2, 'токмаков': 2, 'климашкин': 2, 'воробьевский': 2, 'планетный': 2, 'остряков': 2, 'ильюшин': 2, 'настасьинский': 2, 'монетчиковский': 2, 'домостроительный': 2, 'дорохов': 2, 'инициативный': 2, 'дорогобужский': 2, 'федосьино': 2, 'наташа': 2, '1Ж': 2, 'казенный': 2, 'самокатный': 2, 'кропоткинский': 2, 'напольный': 2, 'молдагулова': 2, 'муромский': 2, 'лазо': 2, '96Б': 2, 'деловой': 2, 'веселый': 2, 'тамбовский': 2, 'дольская': 2, 'ряжский': 2, 'восточный': 2, 'якорный': 2, 'высокий': 2, '196': 2, 'ленский': 2, 'пушкарев': 2, 'кондратюк': 2, 'новомосковский': 2, 'герасим': 2, 'курин': 2, 'молдавский': 2, 'кременчугский': 2, 'давыдковский': 2, 'говоров': 2, 'полоцкий': 2, 'ватутин': 2, 'брянский': 2, 'денис': 2, 'давыдов': 2, 'олеко': 2, 'дундич': 2, 'самаркандский': 2, 'тихий': 2, '139': 2, 'певческий': 2, 'вековой': 2, 'полуярославский': 2, 'добровольческий': 2, 'песочный': 2, 'ляпидевский': 2, 'бирюсинка': 2, 'зона': 2, '135': 2, '21Б': 2, '4801': 2, 'кадашевский': 2, 'чермянский': 2, 'лианозовский': 2, 'бегичев': 2, 'тайнинский': 2, 'новоалексеевский': 2, 'рижский': 2, 'борьба': 2, 'серебряков': 2, 'челобитьевский': 2, 'ольховский': 2, 'барболина': 2, 'татьяна': 2, 'макарова': 2, 'остроумовский': 2, 'вольный': 2, 'перов': 2, 'ибрагимов': 2, '116А': 2, 'златоустовский': 2, 'журавлев': 2, '15Г': 2, '60А': 2, 'новороссийский': 2, '112А': 2, '151': 2, '118Б': 2, 'антонов': 2, 'самора': 2, 'машеть': 2, 'джанкойский': 2, 'витта': 2, 'горчаков': 2, 'винокуров': 2, 'стройкомбинат': 2, '72А': 2, 'аминьевский': 2, 'г': 2, 'островной': 2, 'новопоселковый': 2, 'светлогорский': 2, 'прошлякова': 2, 'таманский': 2, 'курчатов': 2, 'бумажный': 2, '71Б': 2, '227': 2, '23Б': 2, '74А': 2, 'соболевский': 2, 'базовский': 2, '1106Е': 2, '4806': 2, 'георгиевский': 2, '1549': 2, '159': 2, '1550': 2, '405А': 2, 'криворожский': 2, '125Ж': 2, 'выемка': 2, 'лазенки': 2, 'главмосстрой': 2, 'софийский': 2, 'варварка': 2, 'казачий': 2, 'наставнический': 2, 'новолесный': 2, 'миусский': 2, 'серебрянический': 2, 'ковер': 2, 'рогово': 2, 'ЛМС': 2, 'ульяновский': 2, 'лесопарк': 2, 'остафьево': 2, 'молодежный': 2, 'пастернак': 2, 'анна': 2, 'ахматова': 2, 'давыдково': 2, '13Г': 2, 'рудневый': 2, 'курилов': 2, 'долгопрудненский': 2, 'дудкино': 2, 'митьковский': 2, 'расплетин': 2, 'каменка': 2, 'рогозинино': 2, 'грицевец': 2, 'мещеряков': 2, '1204': 2, '2В': 2, '1215': 2, '188Б': 2, 'игарский': 2, 'мкад': 2, '24Г': 2, 'доброслободский': 2, 'ефремов': 2, 'полковник': 2, 'милиция': 2, 'курочкин': 2, 'войковский': 2, 'бажова': 2, 'липчанский': 2, 'красностуденческий': 2, 'самуил': 2, 'маршак': 2, '17Г': 2, '1543': 2, '39Г': 2, '161Б': 2, '1Н': 2, 'одоевский': 2, 'привокзальный': 2, '170А': 2, 'лазурный': 2, 'ландау': 2, 'тюрин': 2, '113а': 2, '119': 2, 'татьянин': 2, 'выборгский': 2, 'волховский': 2, '29Б': 2, 'вересковый': 2, 'кольский': 2, 'сосна': 2, 'СНТ': 2, 'гавриков': 2, '172А': 2, 'горчаковый': 2, 'футбольный': 2, 'корабельный': 2, 'юрьевский': 2, '7Г': 2, '1627': 2, 'гамсоновский': 2, 'новорижский': 2, 'василиса': 2, 'кожина': 2, 'ямонтово': 2, 'филипповский': 1, '102Б': 1, 'бабаевский': 1, 'демьян': 1, 'бедный': 1, 'варсонофьевский': 1, 'глазовский': 1, 'воротниковский': 1, 'вышеславцев': 1, 'гвардейский': 1, 'глебовский': 1, 'девятый': 1, 'рота': 1, 'ермолов': 1, 'жебрунов': 1, 'жигуленков': 1, 'жуковский': 1, 'колобовский': 1, 'кооперативный': 1, 'кунцевский': 1, 'лапин': 1, '180': 1, '186': 1, 'мирской': 1, 'михайловский': 1, 'звонарский': 1, 'новосибирский': 1, 'пивченков': 1, 'платовский': 1, 'подсосенский': 1, 'таганрогский': 1, 'тенистый': 1, '401': 1, '435': 1, '436': 1, '834А': 1, '1449': 1, 'новолучанский': 1, 'ащеулов': 1, 'ВК': 1, 'семенов': 1, 'кривоарбатский': 1, 'серебряный': 1, 'бор': 1, 'зачатьевский': 1, 'старомонетный': 1, 'щемиловский': 1, 'васильцовский': 1, 'иваньковский': 1, '826': 1, '330': 1, 'рассудовый': 1, 'рассудовский': 1, 'лесничество': 1, 'ликов': 1, 'армейский': 1, 'десна': 1, '144УЧ': 1, '38Б': 1, 'пыхтина': 1, 'бунчиха': 1, 'филимонковский': 1, 'валуево': 1, 'яковлевский': 1, 'объездной': 1, 'конаковский': 1, '31В': 1, 'янтарный': 1, 'новоостанкинский': 1, 'докучаев': 1, 'фармацевтический': 1, 'предтеченский': 1, 'столовый': 1, '93А': 1, 'соймоновский': 1, 'власьевский': 1, 'богоявленский': 1, 'лениногорский': 1, 'прокатный': 1, '35Г': 1, 'гончаров': 1, 'вербный': 1, 'ширяевский': 1, 'гамалея': 1, 'хлыновский': 1, 'хлебный': 1, '31Д': 1, 'гольяновский': 1, 'подвойский': 1, '1004А': 1, '855': 1, '1468': 1, '817': 1, '921А': 1, '1016': 1, '912': 1, '1214': 1, '1017': 1, '1128': 1, '1122': 1, '403А': 1, 'изваринский': 1, 'дивизионный': 1, 'пулковский': 1, '156Б': 1, '126А': 1, '1604': 1, 'рокотов': 1, '56А': 1, 'ясногорский': 1, '154': 1, 'ремизов': 1, '806': 1, 'стандартный': 1, 'андреево': 1, 'забелинская': 1, 'миллионный': 1, 'алымов': 1, '137А': 1, 'линейный': 1, 'икшинский': 1, 'немчинов': 1, '50Б': 1, 'вагоноремонтный': 1, 'астрадамский': 1, 'карельский': 1, 'живарев': 1, 'скорняжный': 1, 'коптельский': 1, 'чуксин': 1, 'достоевский': 1, 'фонвизин': 1, 'делегатский': 1, '94А': 1, 'прибрежный': 1, '37Г': 1, 'подрезковский': 1, 'родниковый': 1, 'фруктовый': 1, 'черниговский': 1, 'полтавский': 1, 'пыжевский': 1, 'нелидовский': 1, 'досфлот': 1, 'врачебный': 1, '14Г': 1, '60Г': 1, 'попов': 1, 'боевский': 1, 'новиков': 1, 'новохорошевский': 1, 'стромынский': 1, 'лечебный': 1, 'благуша': 1, '82Б': 1, 'штурвальный': 1, 'минаевский': 1, 'мажор': 1, 'елоховский': 1, 'рубцов': 1, 'кондрашевский': 1, 'плетешковский': 1, 'николаев': 1, '929А': 1, '818': 1, 'мамоновский': 1, 'дегтярный': 1, 'глинищевский': 1, 'хавский': 1, 'богданов': 1, '56Б': 1, 'наро-фоминский': 1, 'щорс': 1, '913А': 1, '810': 1, '809': 1, '823': 1, 'сверчок': 1, '1980': 1, 'ковшовый': 1, 'краснокурсантский': 1, 'мрузовский': 1, 'петроверигский': 1, 'трехсвятительский': 1, 'таможенный': 1, 'шепелюгинский': 1, 'лонгиновский': 1, 'несвижский': 1, 'хилок': 1, 'савельев': 1, 'хользунов': 1, 'хитровский': 1, 'хохловский': 1, '100А': 1, '44Б': 1, 'союзный': 1, 'утренний': 1, '22Б': 1, 'алексей': 1, 'дикий': 1, '82А': 1, 'магаданский': 1, '137': 1, 'печорский': 1, 'ротирать': 1, 'руднева': 1, 'федоскинский': 1, 'норильский': 1, 'таежный': 1, 'кучин': 1, 'кулак': 1, 'банный': 1, 'годовиков': 1, 'васнецов': 1, 'староалексеевский': 1, 'больничный': 1, 'глинистый': 1, 'черепковский': 1, 'зоря': 1, 'ращупкин': 1, 'кубинка': 1, 'кутузов': 1, 'гродненский': 1, 'гжатская': 1, 'вяземская': 1, 'екатерина': 1, 'буданова': 1, 'троилинский': 1, 'николощеповский': 1, 'проточный': 1, 'новорублевская': 1, 'степан': 1, 'шутов': 1, 'орехово-зуевский': 1, 'паперник': 1, 'фрезер': 1, 'мариупольский': 1, 'артюхина': 1, 'тессинский': 1, 'тетеринский': 1, 'библиотечный': 1, 'берниковский': 1, 'стройковский': 1, 'инесса': 1, 'арманд': 1, 'феодосийский': 1, 'учинский': 1, '65А': 1, 'нарвский': 1, '1464': 1, 'чукотский': 1, 'кремлевский': 1, '97А': 1, 'уткин': 1, 'павлов': 1, 'черепанов': 1, '1115': 1, '1641': 1, '173': 1, 'зубарев': 1, 'выполз': 1, 'анненский': 1, 'анненская': 1, '40Д': 1, 'старомарьинский': 1, 'калибровский': 1, '79Б': 1, '4Д': 1, 'лосевский': 1, '55Д': 1, 'ростокинский': 1, '19Г': 1, 'юрловский': 1, '23Г': 1, 'уржумский': 1, 'константинов': 1, '33Г': 1, 'черницынский': 1, 'иртышский': 1, 'шумкин': 1, 'богородский': 1, 'оренбургский': 1, 'медведев': 1, 'старослободский': 1, 'гаражный': 1, 'акуловый': 1, '69Д': 1, '31М': 1, '106А': 1, 'барабанный': 1, '10Д': 1, 'курганский': 1, 'кузьминский': 1, 'хвалынский': 1, '46Б': 1, 'новоостаповский': 1, 'егорьевский': 1, 'автомобильный': 1, 'басовский': 1, '31Б': 1, 'зарайский': 1, 'армавирский': 1, '58Г': 1, 'есенинский': 1, 'тарханский': 1, '166': 1, 'сивашский': 1, '131': 1, 'научный': 1, '135А': 1, 'железногорский': 1, 'новобутовский': 1, 'понтрягин': 1, '250': 1, 'брусилов': 1, '206': 1, 'синельниковский': 1, 'арцимович': 1, 'опарино': 1, '98А': 1, '130Б': 1, '86Д': 1, '20В': 1, 'клочков': 1, 'волоцкий': 1, 'пенягинский': 1, 'рогов': 1, 'салям': 1, 'адиля': 1, 'шеногин': 1, 'ландышевый': 1, 'рословка': 1, 'зенитчик': 1, 'неманский': 1, '24Д': 1, '71Г': 1, 'аэропортовский': 1, '108Б': 1, '73Б': 1, '107Е': 1, '844': 1, '509': 1, 'второй': 1, 'пятилетка': 1, '1138': 1, '822': 1, '514': 1, '1446': 1, '1624Б': 1, '1634': 1, '1637': 1, 'андреев': 1, '2011': 1, '864': 1, '2031': 1, '305': 1, 'педагогический': 1, 'кошкин': 1, '132А': 1, '129Г': 1, '135Б': 1, '122А': 1, 'черноморский': 1, 'интернациональный': 1, 'аэрофлотский': 1, 'лыщик': 1, 'ивановский': 1, 'сибирский': 1, 'фадеев': 1, 'голутвинский': 1, 'гжельский': 1, 'калошин': 1, 'успенский': 1, 'высоцкий': 1, 'денежный': 1, 'пожарский': 1, 'строченовский': 1, '10Г': 1, 'тургеневский': 1, 'бутиковский': 1, 'ростовский': 1, 'пуговишников': 1, 'стрельбищенский': 1, 'брошевский': 1, 'известковый': 1, 'картмазово': 1, 'заречный': 1, '190': 1, 'горький': 1, 'фитаревская': 1, 'дск': 1, 'мичуринец': 1, '16Б': 1, 'школа': 1, 'интернат': 1, 'ясенок': 1, '51Б': 1, 'голохвастово': 1, 'хованское': 1, 'тсж': 1, 'троицкое': 1, 'мостовский': 1, 'пос': 1, '.': 1, '2312': 1, '1651': 1, 'каманин': 1, 'новопресненский': 1, 'сайкин': 1, 'калашный': 1, 'шубинский': 1, 'N': 1, '5231': 1, '164': 1, 'столбово': 1, 'сенькин': 1, 'секерино': 1, '154А': 1, '32Б': 1, 'бабенка': 1, '133Б': 1, '97Б': 1, 'сад': 1, 'корней': 1, 'чуковский': 1, 'причальный': 1, '39Д': 1, 'мансуровский': 1, 'маяковский': 1, 'крекшиный': 1, 'с': 1, '435А': 1, '18Г': 1, '1650': 1, 'каскадный': 1, 'былово': 1, '95А': 1, 'прохладный': 1, '1140': 1, 'александр': 1, 'пестовский': 1, 'дубок': 1, '170Б': 1, '167А': 1, '5Г': 1, '426А': 1, 'пяловский': 1, 'полина': 1, 'осипенко': 1, 'зюзинский': 1, '47Б': 1, 'садок': 1, 'фролов': 1, '64А': 1, '12Д': 1, '22Г': 1, 'ялтинский': 1, 'физический': 1, 'боровой': 1, 'бродников': 1, 'жигулевский': 1, 'анатолий': 1, 'живов': 1, 'комаров': 1, 'медик': 1, '11В': 1, 'сумский': 1, 'архангельский': 1, '425': 1, '429': 1, '607': 1, '618': 1, '1519': 1, 'пржевальский': 1, 'раевский': 1, 'недорубовый': 1, '2014': 1, '315': 1, 'никитин': 1, '1816': 1, '507': 1, '430А': 1, '341А': 1, '314': 1, '48А': 1, '428А': 1, '621А': 1, '344А': 1, '711': 1, '421А': 1, '205А': 1, 'козицкий': 1, '1548': 1, '98Б': 1, 'шумилов': 1, '1555': 1, '1609': 1, '1426': 1, '1632': 1, 'газгольдерный': 1, '1469': 1, '1611': 1, 'нансен': 1, 'нововладыкинский': 1, 'армия': 1, '49А': 1, '1440': 1, '1556': 1, '1642': 1, '529': 1, '1530': 1, '222А': 1, '138': 1, '60Б': 1, '14Ж': 1, 'безобразовый': 1, 'краснопахорский': 1, 'колотиловый': 1, 'цветочный': 1, 'микоян': 1, 'северодвинский': 1, 'ковшовой': 1, '27Б': 1, 'мерзляковский': 1, 'электрический': 1, 'кузьминки': 1, '41Г': 1, 'гранатный': 1, '9Г': 1, '1455': 1, 'атарбеков': 1, 'донелайтис': 1, 'мерецков': 1, 'прядильный': 1, '834В': 1, '1130': 1, 'челюскинский': 1, 'захарьинский': 1, 'дворик': 1, 'базовый': 1, 'шаганино': 1, 'скатертный': 1, '8Д': 1, '111А': 1, 'кухмистеров': 1, 'айвазовский': 1, 'тарусский': 1, 'производственный': 1, 'максимов': 1, 'парусный': 1, 'мишина': 1, '2045': 1, 'канатчиковский': 1, 'ватутинский': 1, 'машкинский': 1, 'эдальго': 1, 'тестовский': 1, '165Б': 1, 'новоподмосковный': 1, 'посланник': 1, 'яшин': 1, 'композиторский': 1, '1410': 1, 'яхромский': 1, 'спасоналивковский': 1, '617А': 1, 'винницкая': 1, 'якушкин': 1, '224': 1, 'сеченовский': 1, '145': 1, 'староникольский': 1, '1628': 1, '75Б': 1, '32Г': 1, 'железный': 1, '1602А': 1, '532': 1, 'пионерский': 1, 'поповка': 1, 'рябинкин': 1, 'евгений': 1, 'родионов': 1, 'фоминский': 1, '\\n': 1})\n"
     ]
    }
   ],
   "source": [
    "lemm(rest_data, 'address')"
   ]
  },
  {
   "cell_type": "code",
   "execution_count": 37,
   "id": "f5e386df",
   "metadata": {},
   "outputs": [],
   "source": [
    "def street(address): #напишем функцию для выделения улицы из адреса\n",
    "    address = address.lower()\n",
    "    address = address.split(', ')\n",
    "    if address[1] == 'город зеленоград': # для города Зеленоград если в адресе кроме города есть улица, сохраним и ее\n",
    "        if 'корпус' not in address[2]:\n",
    "            street = address[1] + ', ' + address[2]\n",
    "            return(street)\n",
    "        street = address[1]\n",
    "        return(street)\n",
    "    for part in address:\n",
    "        for street_name in ['улица', 'проспект', 'шоссе', 'проезд', 'бульвар', 'переулок', 'набережная', 'площадь', \n",
    "                            'квартал', 'аллея', 'микрорайон', 'деревня', 'посёлок']:\n",
    "            if street_name in part:\n",
    "                return(part)\n",
    "    return('unknown')"
   ]
  },
  {
   "cell_type": "code",
   "execution_count": 38,
   "id": "b177076a",
   "metadata": {},
   "outputs": [],
   "source": [
    "rest_data['street'] = rest_data['address'].map(street)"
   ]
  },
  {
   "cell_type": "markdown",
   "id": "68a2596f",
   "metadata": {},
   "source": [
    "Создадим датафрейм с количеством объектов общественного питания по улицам."
   ]
  },
  {
   "cell_type": "code",
   "execution_count": 39,
   "id": "dbb03b50",
   "metadata": {},
   "outputs": [],
   "source": [
    "count_rest_by_streets = rest_data.pivot_table(index='street', values='id', aggfunc='count')\\\n",
    "    .rename(columns={'id':'count'}).sort_values('count', ascending=False)"
   ]
  },
  {
   "cell_type": "markdown",
   "id": "ad7bfc6d",
   "metadata": {},
   "source": [
    "Найдем топ-10 улиц по количеству объектов общественного питания."
   ]
  },
  {
   "cell_type": "code",
   "execution_count": 40,
   "id": "d921ba90",
   "metadata": {
    "scrolled": true
   },
   "outputs": [
    {
     "data": {
      "text/html": [
       "<div>\n",
       "<style scoped>\n",
       "    .dataframe tbody tr th:only-of-type {\n",
       "        vertical-align: middle;\n",
       "    }\n",
       "\n",
       "    .dataframe tbody tr th {\n",
       "        vertical-align: top;\n",
       "    }\n",
       "\n",
       "    .dataframe thead th {\n",
       "        text-align: right;\n",
       "    }\n",
       "</style>\n",
       "<table border=\"1\" class=\"dataframe\">\n",
       "  <thead>\n",
       "    <tr style=\"text-align: right;\">\n",
       "      <th></th>\n",
       "      <th>count</th>\n",
       "    </tr>\n",
       "    <tr>\n",
       "      <th>street</th>\n",
       "      <th></th>\n",
       "    </tr>\n",
       "  </thead>\n",
       "  <tbody>\n",
       "    <tr>\n",
       "      <th>проспект мира</th>\n",
       "      <td>204</td>\n",
       "    </tr>\n",
       "    <tr>\n",
       "      <th>профсоюзная улица</th>\n",
       "      <td>183</td>\n",
       "    </tr>\n",
       "    <tr>\n",
       "      <th>ленинградский проспект</th>\n",
       "      <td>173</td>\n",
       "    </tr>\n",
       "    <tr>\n",
       "      <th>пресненская набережная</th>\n",
       "      <td>167</td>\n",
       "    </tr>\n",
       "    <tr>\n",
       "      <th>варшавское шоссе</th>\n",
       "      <td>165</td>\n",
       "    </tr>\n",
       "    <tr>\n",
       "      <th>ленинский проспект</th>\n",
       "      <td>148</td>\n",
       "    </tr>\n",
       "    <tr>\n",
       "      <th>проспект вернадского</th>\n",
       "      <td>132</td>\n",
       "    </tr>\n",
       "    <tr>\n",
       "      <th>город зеленоград</th>\n",
       "      <td>129</td>\n",
       "    </tr>\n",
       "    <tr>\n",
       "      <th>кутузовский проспект</th>\n",
       "      <td>114</td>\n",
       "    </tr>\n",
       "    <tr>\n",
       "      <th>каширское шоссе</th>\n",
       "      <td>112</td>\n",
       "    </tr>\n",
       "  </tbody>\n",
       "</table>\n",
       "</div>"
      ],
      "text/plain": [
       "                        count\n",
       "street                       \n",
       "проспект мира             204\n",
       "профсоюзная улица         183\n",
       "ленинградский проспект    173\n",
       "пресненская набережная    167\n",
       "варшавское шоссе          165\n",
       "ленинский проспект        148\n",
       "проспект вернадского      132\n",
       "город зеленоград          129\n",
       "кутузовский проспект      114\n",
       "каширское шоссе           112"
      ]
     },
     "execution_count": 40,
     "metadata": {},
     "output_type": "execute_result"
    }
   ],
   "source": [
    "top_ten_streets = count_rest_by_streets.head(10).index #запишем их названия в переменную\n",
    "count_rest_by_streets.head(10)"
   ]
  },
  {
   "cell_type": "markdown",
   "id": "c492cb4a",
   "metadata": {},
   "source": [
    "Построим график."
   ]
  },
  {
   "cell_type": "code",
   "execution_count": 41,
   "id": "525247aa",
   "metadata": {},
   "outputs": [
    {
     "data": {
      "image/png": "[encoded data removed]",
      "text/plain": [
       "<Figure size 432x288 with 1 Axes>"
      ]
     },
     "metadata": {
      "needs_background": "light"
     },
     "output_type": "display_data"
    }
   ],
   "source": [
    "sns.barplot(data=count_rest_by_streets[count_rest_by_streets.index.isin(count_rest_by_streets.head(10).index)],\n",
    "             x=count_rest_by_streets.head(10).index,\n",
    "            y='count')\n",
    "plt.title('Количество объектов общественного питания на топ-10 улиц Москвы')\n",
    "plt.ylabel('Количество ООП')\n",
    "plt.xlabel('Улица')\n",
    "plt.xticks(rotation=90)\n",
    "plt.show()"
   ]
  },
  {
   "cell_type": "markdown",
   "id": "20dc944e",
   "metadata": {},
   "source": [
    "Посмотрим, в каких районах находятся эти улицы.\n",
    "\n",
    "Для этого воспользуемся внешним ресурсом - базой улиц Мосгаз."
   ]
  },
  {
   "cell_type": "code",
   "execution_count": 42,
   "id": "9a6dcb76",
   "metadata": {
    "scrolled": true
   },
   "outputs": [
    {
     "name": "stdout",
     "output_type": "stream",
     "text": [
      "Первые 5 строк и сводная информация по файлу mos_gaz\n"
     ]
    },
    {
     "data": {
      "text/html": [
       "<div>\n",
       "<style scoped>\n",
       "    .dataframe tbody tr th:only-of-type {\n",
       "        vertical-align: middle;\n",
       "    }\n",
       "\n",
       "    .dataframe tbody tr th {\n",
       "        vertical-align: top;\n",
       "    }\n",
       "\n",
       "    .dataframe thead th {\n",
       "        text-align: right;\n",
       "    }\n",
       "</style>\n",
       "<table border=\"1\" class=\"dataframe\">\n",
       "  <thead>\n",
       "    <tr style=\"text-align: right;\">\n",
       "      <th></th>\n",
       "      <th>streetname</th>\n",
       "      <th>areaid</th>\n",
       "      <th>okrug</th>\n",
       "      <th>area</th>\n",
       "    </tr>\n",
       "  </thead>\n",
       "  <tbody>\n",
       "    <tr>\n",
       "      <th>0</th>\n",
       "      <td>Выставочный переулок</td>\n",
       "      <td>17</td>\n",
       "      <td>ЦАО</td>\n",
       "      <td>Пресненский район</td>\n",
       "    </tr>\n",
       "    <tr>\n",
       "      <th>1</th>\n",
       "      <td>улица Гашека</td>\n",
       "      <td>17</td>\n",
       "      <td>ЦАО</td>\n",
       "      <td>Пресненский район</td>\n",
       "    </tr>\n",
       "    <tr>\n",
       "      <th>2</th>\n",
       "      <td>Большая Никитская улица</td>\n",
       "      <td>17</td>\n",
       "      <td>ЦАО</td>\n",
       "      <td>Пресненский район</td>\n",
       "    </tr>\n",
       "    <tr>\n",
       "      <th>3</th>\n",
       "      <td>Глубокий переулок</td>\n",
       "      <td>17</td>\n",
       "      <td>ЦАО</td>\n",
       "      <td>Пресненский район</td>\n",
       "    </tr>\n",
       "    <tr>\n",
       "      <th>4</th>\n",
       "      <td>Большой Гнездниковский переулок</td>\n",
       "      <td>17</td>\n",
       "      <td>ЦАО</td>\n",
       "      <td>Пресненский район</td>\n",
       "    </tr>\n",
       "  </tbody>\n",
       "</table>\n",
       "</div>"
      ],
      "text/plain": [
       "                        streetname  areaid okrug               area\n",
       "0             Выставочный переулок      17   ЦАО  Пресненский район\n",
       "1                     улица Гашека      17   ЦАО  Пресненский район\n",
       "2          Большая Никитская улица      17   ЦАО  Пресненский район\n",
       "3                Глубокий переулок      17   ЦАО  Пресненский район\n",
       "4  Большой Гнездниковский переулок      17   ЦАО  Пресненский район"
      ]
     },
     "metadata": {},
     "output_type": "display_data"
    },
    {
     "name": "stdout",
     "output_type": "stream",
     "text": [
      "<class 'pandas.core.frame.DataFrame'>\n",
      "RangeIndex: 4398 entries, 0 to 4397\n",
      "Data columns (total 4 columns):\n",
      " #   Column      Non-Null Count  Dtype \n",
      "---  ------      --------------  ----- \n",
      " 0   streetname  4398 non-null   object\n",
      " 1   areaid      4398 non-null   int64 \n",
      " 2   okrug       4398 non-null   object\n",
      " 3   area        4398 non-null   object\n",
      "dtypes: int64(1), object(3)\n",
      "memory usage: 137.6+ KB\n",
      "Количество строк-дубликатов в датафрейме mos_gaz равно 8\n",
      "____________________________________________________________________________________________________\n"
     ]
    }
   ],
   "source": [
    "mos_gaz = pd.read_csv(\n",
    "    'https://frs.noosphere.ru/xmlui/bitstream/handle/20.500.11925/714058/mosgaz-streets.csv?sequence=1&isAllowed=y')\n",
    "\n",
    "description([mos_gaz], ['mos_gaz'])"
   ]
  },
  {
   "cell_type": "markdown",
   "id": "64ef6e53",
   "metadata": {},
   "source": [
    "Датафрейм не имеет пропусков. Есть дубликаты, но они нам не помешают."
   ]
  },
  {
   "cell_type": "code",
   "execution_count": 43,
   "id": "575ca979",
   "metadata": {},
   "outputs": [],
   "source": [
    "mos_gaz['streetname'] = mos_gaz['streetname'].map(str.lower) #приведем названия улиц к нижнему регистру"
   ]
  },
  {
   "cell_type": "markdown",
   "id": "fb9bb5d9",
   "metadata": {},
   "source": [
    "Найдем районы, в которых проходят улицы топ-10 по количеству объектов общественного питания. Сюда нужно добавить город Зеленоград, так как большая часть зданий Зеленограда не имеет улицы, адрес состоит только из названия города и номера корпуса."
   ]
  },
  {
   "cell_type": "code",
   "execution_count": 44,
   "id": "a6d009e2",
   "metadata": {},
   "outputs": [
    {
     "data": {
      "text/plain": [
       "array(['Пресненский район', 'Район Дорогомилово', 'Район Фили-Давыдково',\n",
       "       'Район Проспект Вернадского', 'Район Раменки',\n",
       "       'Район Тропарево-Никулино', 'Район Крюково',\n",
       "       'Район Матушкино-Савелки', 'Панфиловский район', 'Район Аэропорт',\n",
       "       'Район Беговой', 'Хорошевский район', 'Район Сокол',\n",
       "       'Алексеевский район', 'Ярославский Район', 'Район Марьина роща',\n",
       "       'Останкинский район', 'Район Ростокино', 'Район Свиблово',\n",
       "       'Район Чертаново Центральное', 'Район Чертаново Северное',\n",
       "       'Район Чертаново Южное', 'Донской район',\n",
       "       'Район Москворечье-Сабурово', 'Район Нагатино-Садовники',\n",
       "       'Нагорный район', 'Район Орехово-Борисово Южное',\n",
       "       'Район Орехово-Борисово Северное', 'Академический район',\n",
       "       'Район Черемушки', 'Район Гагаринский', 'Район Ясенево',\n",
       "       'Район Коньково', 'Ломоносовский район', 'Обручевский район',\n",
       "       'Район Северное Бутово', 'Район Теплый Стан', 'Район Южное Бутово',\n",
       "       'Район Якиманка', 'Мещанский район'], dtype=object)"
      ]
     },
     "execution_count": 44,
     "metadata": {},
     "output_type": "execute_result"
    }
   ],
   "source": [
    "mos_gaz[mos_gaz['streetname'].isin(count_rest_by_streets.head(10).index)]['area'].unique()"
   ]
  },
  {
   "cell_type": "markdown",
   "id": "00e63e0d",
   "metadata": {},
   "source": [
    "Добавим к датасету с количеством заведений по улицам районы, через которые эти улицы проходят."
   ]
  },
  {
   "cell_type": "code",
   "execution_count": 45,
   "id": "31382cfe",
   "metadata": {},
   "outputs": [],
   "source": [
    "count_rest_by_streets = count_rest_by_streets.merge(\n",
    "    mos_gaz[['streetname', 'area']], how='left', left_index=True, right_on='streetname')"
   ]
  },
  {
   "cell_type": "markdown",
   "id": "213b0ee1",
   "metadata": {},
   "source": [
    "Посмотрим, через какие районы проходят улицы из топ-10."
   ]
  },
  {
   "cell_type": "code",
   "execution_count": 46,
   "id": "7e287f3b",
   "metadata": {},
   "outputs": [
    {
     "data": {
      "text/html": [
       "<div>\n",
       "<style scoped>\n",
       "    .dataframe tbody tr th:only-of-type {\n",
       "        vertical-align: middle;\n",
       "    }\n",
       "\n",
       "    .dataframe tbody tr th {\n",
       "        vertical-align: top;\n",
       "    }\n",
       "\n",
       "    .dataframe thead th {\n",
       "        text-align: right;\n",
       "    }\n",
       "</style>\n",
       "<table border=\"1\" class=\"dataframe\">\n",
       "  <thead>\n",
       "    <tr style=\"text-align: right;\">\n",
       "      <th></th>\n",
       "      <th>count</th>\n",
       "      <th>streetname</th>\n",
       "      <th>area</th>\n",
       "    </tr>\n",
       "  </thead>\n",
       "  <tbody>\n",
       "    <tr>\n",
       "      <th>2293.0</th>\n",
       "      <td>204</td>\n",
       "      <td>проспект мира</td>\n",
       "      <td>Алексеевский район</td>\n",
       "    </tr>\n",
       "    <tr>\n",
       "      <th>2390.0</th>\n",
       "      <td>204</td>\n",
       "      <td>проспект мира</td>\n",
       "      <td>Ярославский Район</td>\n",
       "    </tr>\n",
       "    <tr>\n",
       "      <th>2531.0</th>\n",
       "      <td>204</td>\n",
       "      <td>проспект мира</td>\n",
       "      <td>Район Марьина роща</td>\n",
       "    </tr>\n",
       "    <tr>\n",
       "      <th>2578.0</th>\n",
       "      <td>204</td>\n",
       "      <td>проспект мира</td>\n",
       "      <td>Останкинский район</td>\n",
       "    </tr>\n",
       "    <tr>\n",
       "      <th>2644.0</th>\n",
       "      <td>204</td>\n",
       "      <td>проспект мира</td>\n",
       "      <td>Район Ростокино</td>\n",
       "    </tr>\n",
       "    <tr>\n",
       "      <th>2712.0</th>\n",
       "      <td>204</td>\n",
       "      <td>проспект мира</td>\n",
       "      <td>Район Свиблово</td>\n",
       "    </tr>\n",
       "    <tr>\n",
       "      <th>4334.0</th>\n",
       "      <td>204</td>\n",
       "      <td>проспект мира</td>\n",
       "      <td>Мещанский район</td>\n",
       "    </tr>\n",
       "    <tr>\n",
       "      <th>3845.0</th>\n",
       "      <td>183</td>\n",
       "      <td>профсоюзная улица</td>\n",
       "      <td>Академический район</td>\n",
       "    </tr>\n",
       "    <tr>\n",
       "      <th>3867.0</th>\n",
       "      <td>183</td>\n",
       "      <td>профсоюзная улица</td>\n",
       "      <td>Район Черемушки</td>\n",
       "    </tr>\n",
       "    <tr>\n",
       "      <th>3916.0</th>\n",
       "      <td>183</td>\n",
       "      <td>профсоюзная улица</td>\n",
       "      <td>Район Ясенево</td>\n",
       "    </tr>\n",
       "    <tr>\n",
       "      <th>3948.0</th>\n",
       "      <td>183</td>\n",
       "      <td>профсоюзная улица</td>\n",
       "      <td>Район Коньково</td>\n",
       "    </tr>\n",
       "    <tr>\n",
       "      <th>3996.0</th>\n",
       "      <td>183</td>\n",
       "      <td>профсоюзная улица</td>\n",
       "      <td>Обручевский район</td>\n",
       "    </tr>\n",
       "    <tr>\n",
       "      <th>4024.0</th>\n",
       "      <td>183</td>\n",
       "      <td>профсоюзная улица</td>\n",
       "      <td>Район Теплый Стан</td>\n",
       "    </tr>\n",
       "    <tr>\n",
       "      <th>1857.0</th>\n",
       "      <td>173</td>\n",
       "      <td>ленинградский проспект</td>\n",
       "      <td>Район Аэропорт</td>\n",
       "    </tr>\n",
       "    <tr>\n",
       "      <th>1896.0</th>\n",
       "      <td>173</td>\n",
       "      <td>ленинградский проспект</td>\n",
       "      <td>Район Беговой</td>\n",
       "    </tr>\n",
       "    <tr>\n",
       "      <th>1992.0</th>\n",
       "      <td>173</td>\n",
       "      <td>ленинградский проспект</td>\n",
       "      <td>Хорошевский район</td>\n",
       "    </tr>\n",
       "    <tr>\n",
       "      <th>2150.0</th>\n",
       "      <td>173</td>\n",
       "      <td>ленинградский проспект</td>\n",
       "      <td>Район Сокол</td>\n",
       "    </tr>\n",
       "    <tr>\n",
       "      <th>72.0</th>\n",
       "      <td>167</td>\n",
       "      <td>пресненская набережная</td>\n",
       "      <td>Пресненский район</td>\n",
       "    </tr>\n",
       "    <tr>\n",
       "      <th>3105.0</th>\n",
       "      <td>165</td>\n",
       "      <td>варшавское шоссе</td>\n",
       "      <td>Район Чертаново Центральное</td>\n",
       "    </tr>\n",
       "    <tr>\n",
       "      <th>3117.0</th>\n",
       "      <td>165</td>\n",
       "      <td>варшавское шоссе</td>\n",
       "      <td>Район Чертаново Северное</td>\n",
       "    </tr>\n",
       "    <tr>\n",
       "      <th>3125.0</th>\n",
       "      <td>165</td>\n",
       "      <td>варшавское шоссе</td>\n",
       "      <td>Район Чертаново Южное</td>\n",
       "    </tr>\n",
       "    <tr>\n",
       "      <th>3241.0</th>\n",
       "      <td>165</td>\n",
       "      <td>варшавское шоссе</td>\n",
       "      <td>Донской район</td>\n",
       "    </tr>\n",
       "    <tr>\n",
       "      <th>3305.0</th>\n",
       "      <td>165</td>\n",
       "      <td>варшавское шоссе</td>\n",
       "      <td>Район Нагатино-Садовники</td>\n",
       "    </tr>\n",
       "    <tr>\n",
       "      <th>3349.0</th>\n",
       "      <td>165</td>\n",
       "      <td>варшавское шоссе</td>\n",
       "      <td>Нагорный район</td>\n",
       "    </tr>\n",
       "    <tr>\n",
       "      <th>3999.0</th>\n",
       "      <td>165</td>\n",
       "      <td>варшавское шоссе</td>\n",
       "      <td>Район Северное Бутово</td>\n",
       "    </tr>\n",
       "    <tr>\n",
       "      <th>4065.0</th>\n",
       "      <td>165</td>\n",
       "      <td>варшавское шоссе</td>\n",
       "      <td>Район Южное Бутово</td>\n",
       "    </tr>\n",
       "    <tr>\n",
       "      <th>1504.0</th>\n",
       "      <td>148</td>\n",
       "      <td>ленинский проспект</td>\n",
       "      <td>Район Проспект Вернадского</td>\n",
       "    </tr>\n",
       "    <tr>\n",
       "      <th>1602.0</th>\n",
       "      <td>148</td>\n",
       "      <td>ленинский проспект</td>\n",
       "      <td>Район Тропарево-Никулино</td>\n",
       "    </tr>\n",
       "    <tr>\n",
       "      <th>3260.0</th>\n",
       "      <td>148</td>\n",
       "      <td>ленинский проспект</td>\n",
       "      <td>Донской район</td>\n",
       "    </tr>\n",
       "    <tr>\n",
       "      <th>3886.0</th>\n",
       "      <td>148</td>\n",
       "      <td>ленинский проспект</td>\n",
       "      <td>Район Гагаринский</td>\n",
       "    </tr>\n",
       "    <tr>\n",
       "      <th>3973.0</th>\n",
       "      <td>148</td>\n",
       "      <td>ленинский проспект</td>\n",
       "      <td>Ломоносовский район</td>\n",
       "    </tr>\n",
       "    <tr>\n",
       "      <th>3986.0</th>\n",
       "      <td>148</td>\n",
       "      <td>ленинский проспект</td>\n",
       "      <td>Обручевский район</td>\n",
       "    </tr>\n",
       "    <tr>\n",
       "      <th>4021.0</th>\n",
       "      <td>148</td>\n",
       "      <td>ленинский проспект</td>\n",
       "      <td>Район Теплый Стан</td>\n",
       "    </tr>\n",
       "    <tr>\n",
       "      <th>4163.0</th>\n",
       "      <td>148</td>\n",
       "      <td>ленинский проспект</td>\n",
       "      <td>Район Якиманка</td>\n",
       "    </tr>\n",
       "    <tr>\n",
       "      <th>1501.0</th>\n",
       "      <td>132</td>\n",
       "      <td>проспект вернадского</td>\n",
       "      <td>Район Проспект Вернадского</td>\n",
       "    </tr>\n",
       "    <tr>\n",
       "      <th>1510.0</th>\n",
       "      <td>132</td>\n",
       "      <td>проспект вернадского</td>\n",
       "      <td>Район Раменки</td>\n",
       "    </tr>\n",
       "    <tr>\n",
       "      <th>1598.0</th>\n",
       "      <td>132</td>\n",
       "      <td>проспект вернадского</td>\n",
       "      <td>Район Тропарево-Никулино</td>\n",
       "    </tr>\n",
       "    <tr>\n",
       "      <th>3878.0</th>\n",
       "      <td>132</td>\n",
       "      <td>проспект вернадского</td>\n",
       "      <td>Район Гагаринский</td>\n",
       "    </tr>\n",
       "    <tr>\n",
       "      <th>3967.0</th>\n",
       "      <td>132</td>\n",
       "      <td>проспект вернадского</td>\n",
       "      <td>Ломоносовский район</td>\n",
       "    </tr>\n",
       "    <tr>\n",
       "      <th>1700.0</th>\n",
       "      <td>129</td>\n",
       "      <td>город зеленоград</td>\n",
       "      <td>Район Крюково</td>\n",
       "    </tr>\n",
       "    <tr>\n",
       "      <th>1757.0</th>\n",
       "      <td>129</td>\n",
       "      <td>город зеленоград</td>\n",
       "      <td>Район Матушкино-Савелки</td>\n",
       "    </tr>\n",
       "    <tr>\n",
       "      <th>1801.0</th>\n",
       "      <td>129</td>\n",
       "      <td>город зеленоград</td>\n",
       "      <td>Панфиловский район</td>\n",
       "    </tr>\n",
       "    <tr>\n",
       "      <th>1208.0</th>\n",
       "      <td>114</td>\n",
       "      <td>кутузовский проспект</td>\n",
       "      <td>Район Дорогомилово</td>\n",
       "    </tr>\n",
       "    <tr>\n",
       "      <th>1280.0</th>\n",
       "      <td>114</td>\n",
       "      <td>кутузовский проспект</td>\n",
       "      <td>Район Фили-Давыдково</td>\n",
       "    </tr>\n",
       "    <tr>\n",
       "      <th>3292.0</th>\n",
       "      <td>112</td>\n",
       "      <td>каширское шоссе</td>\n",
       "      <td>Район Москворечье-Сабурово</td>\n",
       "    </tr>\n",
       "    <tr>\n",
       "      <th>3308.0</th>\n",
       "      <td>112</td>\n",
       "      <td>каширское шоссе</td>\n",
       "      <td>Район Нагатино-Садовники</td>\n",
       "    </tr>\n",
       "    <tr>\n",
       "      <th>3369.0</th>\n",
       "      <td>112</td>\n",
       "      <td>каширское шоссе</td>\n",
       "      <td>Район Орехово-Борисово Южное</td>\n",
       "    </tr>\n",
       "    <tr>\n",
       "      <th>3392.0</th>\n",
       "      <td>112</td>\n",
       "      <td>каширское шоссе</td>\n",
       "      <td>Район Орехово-Борисово Северное</td>\n",
       "    </tr>\n",
       "  </tbody>\n",
       "</table>\n",
       "</div>"
      ],
      "text/plain": [
       "        count              streetname                             area\n",
       "2293.0    204           проспект мира               Алексеевский район\n",
       "2390.0    204           проспект мира                Ярославский Район\n",
       "2531.0    204           проспект мира               Район Марьина роща\n",
       "2578.0    204           проспект мира               Останкинский район\n",
       "2644.0    204           проспект мира                  Район Ростокино\n",
       "2712.0    204           проспект мира                   Район Свиблово\n",
       "4334.0    204           проспект мира                  Мещанский район\n",
       "3845.0    183       профсоюзная улица              Академический район\n",
       "3867.0    183       профсоюзная улица                  Район Черемушки\n",
       "3916.0    183       профсоюзная улица                    Район Ясенево\n",
       "3948.0    183       профсоюзная улица                   Район Коньково\n",
       "3996.0    183       профсоюзная улица                Обручевский район\n",
       "4024.0    183       профсоюзная улица                Район Теплый Стан\n",
       "1857.0    173  ленинградский проспект                   Район Аэропорт\n",
       "1896.0    173  ленинградский проспект                    Район Беговой\n",
       "1992.0    173  ленинградский проспект                Хорошевский район\n",
       "2150.0    173  ленинградский проспект                      Район Сокол\n",
       "72.0      167  пресненская набережная                Пресненский район\n",
       "3105.0    165        варшавское шоссе      Район Чертаново Центральное\n",
       "3117.0    165        варшавское шоссе         Район Чертаново Северное\n",
       "3125.0    165        варшавское шоссе            Район Чертаново Южное\n",
       "3241.0    165        варшавское шоссе                    Донской район\n",
       "3305.0    165        варшавское шоссе         Район Нагатино-Садовники\n",
       "3349.0    165        варшавское шоссе                   Нагорный район\n",
       "3999.0    165        варшавское шоссе            Район Северное Бутово\n",
       "4065.0    165        варшавское шоссе               Район Южное Бутово\n",
       "1504.0    148      ленинский проспект       Район Проспект Вернадского\n",
       "1602.0    148      ленинский проспект         Район Тропарево-Никулино\n",
       "3260.0    148      ленинский проспект                    Донской район\n",
       "3886.0    148      ленинский проспект                Район Гагаринский\n",
       "3973.0    148      ленинский проспект              Ломоносовский район\n",
       "3986.0    148      ленинский проспект                Обручевский район\n",
       "4021.0    148      ленинский проспект                Район Теплый Стан\n",
       "4163.0    148      ленинский проспект                   Район Якиманка\n",
       "1501.0    132    проспект вернадского       Район Проспект Вернадского\n",
       "1510.0    132    проспект вернадского                    Район Раменки\n",
       "1598.0    132    проспект вернадского         Район Тропарево-Никулино\n",
       "3878.0    132    проспект вернадского                Район Гагаринский\n",
       "3967.0    132    проспект вернадского              Ломоносовский район\n",
       "1700.0    129        город зеленоград                    Район Крюково\n",
       "1757.0    129        город зеленоград          Район Матушкино-Савелки\n",
       "1801.0    129        город зеленоград               Панфиловский район\n",
       "1208.0    114    кутузовский проспект               Район Дорогомилово\n",
       "1280.0    114    кутузовский проспект             Район Фили-Давыдково\n",
       "3292.0    112         каширское шоссе       Район Москворечье-Сабурово\n",
       "3308.0    112         каширское шоссе         Район Нагатино-Садовники\n",
       "3369.0    112         каширское шоссе     Район Орехово-Борисово Южное\n",
       "3392.0    112         каширское шоссе  Район Орехово-Борисово Северное"
      ]
     },
     "execution_count": 46,
     "metadata": {},
     "output_type": "execute_result"
    }
   ],
   "source": [
    "count_rest_by_streets[count_rest_by_streets['streetname'].isin(top_ten_streets)]"
   ]
  },
  {
   "cell_type": "markdown",
   "id": "0b69c04f",
   "metadata": {},
   "source": [
    "Посмотрим количество районов, через которые проходит каждая из топ-10 улиц."
   ]
  },
  {
   "cell_type": "code",
   "execution_count": 47,
   "id": "705dd3bd",
   "metadata": {},
   "outputs": [
    {
     "data": {
      "text/plain": [
       "варшавское шоссе          8\n",
       "ленинский проспект        8\n",
       "проспект мира             7\n",
       "профсоюзная улица         6\n",
       "проспект вернадского      5\n",
       "ленинградский проспект    4\n",
       "каширское шоссе           4\n",
       "город зеленоград          3\n",
       "кутузовский проспект      2\n",
       "пресненская набережная    1\n",
       "Name: streetname, dtype: int64"
      ]
     },
     "execution_count": 47,
     "metadata": {},
     "output_type": "execute_result"
    }
   ],
   "source": [
    "count_rest_by_streets[count_rest_by_streets['streetname'].isin(top_ten_streets)]['streetname'].value_counts()"
   ]
  },
  {
   "cell_type": "code",
   "execution_count": 48,
   "id": "4d63b197",
   "metadata": {},
   "outputs": [
    {
     "name": "stdout",
     "output_type": "stream",
     "text": [
      "Медианное количество районов, через которые проходит одна улица: 1.0\n"
     ]
    }
   ],
   "source": [
    "print('Медианное количество районов, через которые проходит одна улица:',\n",
    "      round(count_rest_by_streets['streetname'].value_counts().median(), 1))"
   ]
  },
  {
   "cell_type": "markdown",
   "id": "b85b5a6f",
   "metadata": {},
   "source": [
    "<span style=\"color: blue\">Судя по тому, что медианное количество районов, через которые проходит одна улица в Москве равно 1, а улицы из топ-10, кроме Пресненской набережной, проходят через 2 района и более, можно сделать вывод о том, что большая часть улиц из топ-10 более протяженнее, чем как минимум 50% улиц Москвы.</span>"
   ]
  },
  {
   "cell_type": "markdown",
   "id": "5be92344",
   "metadata": {},
   "source": [
    "<a id=\"streets_one_object\"></a>\n",
    "### Улицы с одним объектом общественного питания"
   ]
  },
  {
   "cell_type": "markdown",
   "id": "f49dfc8a",
   "metadata": {},
   "source": [
    "Посмотрим количество улиц с одним объектом общественного питания."
   ]
  },
  {
   "cell_type": "code",
   "execution_count": 49,
   "id": "bade133f",
   "metadata": {},
   "outputs": [
    {
     "name": "stdout",
     "output_type": "stream",
     "text": [
      "Количество улиц с одним объектом общественного питания: 563\n"
     ]
    }
   ],
   "source": [
    "print('Количество улиц с одним объектом общественного питания:',\n",
    "      (count_rest_by_streets[count_rest_by_streets['count']==1]['streetname'].nunique()))"
   ]
  },
  {
   "cell_type": "markdown",
   "id": "300b4bff",
   "metadata": {},
   "source": [
    "Посмотрим, в каких районах Москвы находятся эти улицы."
   ]
  },
  {
   "cell_type": "code",
   "execution_count": 50,
   "id": "9679cdbc",
   "metadata": {},
   "outputs": [
    {
     "data": {
      "text/plain": [
       "array(['Пресненский район', 'Таганский район', 'Тверской район',\n",
       "       'Район Арбат', 'Район Замоскворечье', 'Район Богородское',\n",
       "       'Район Гольяново', 'Район Измайлово', 'Район Косино-Ухтомский',\n",
       "       'Басманный район', 'Район Метрогородок', 'Район Новогиреево',\n",
       "       'Район Перово', 'Район Преображенское', 'Район Северное Измайлово',\n",
       "       'Район Соколиная Гора', 'Район Восточное Измайлово',\n",
       "       'Район Восточный', 'Район Ивановское', 'Район Сокольники',\n",
       "       'Район Дорогомилово', 'Район Филевский Парк',\n",
       "       'Район Фили-Давыдково', 'Район Кунцево', 'Можайский Район',\n",
       "       'Район Ново-Переделкино', 'Район Очаково-Матвеевское',\n",
       "       'Район Раменки', 'Район Солнцево', 'Район Внуково',\n",
       "       'Район Крюково', 'Район Матушкино-Савелки', 'Район Аэропорт',\n",
       "       'Район Беговой', 'Бескудниковский Район', 'Дмитровский район',\n",
       "       'Головинский район', 'Хорошевский район', 'Район Коптево',\n",
       "       'Район Левобережный', 'Молжаниновский район', 'Савеловский район',\n",
       "       'Район Сокол', 'Тимирязевский Район', 'Войковский Район',\n",
       "       'Район Западное Дегунино', 'Алексеевский район',\n",
       "       'Алтуфьевский район', 'Бабушкинский район', 'Бутырский район',\n",
       "       'Ярославский Район', 'Район Южное Медведково', 'Район Лианозово',\n",
       "       'Район Хамовники', 'Лосиноостровский район', 'Район Марфино',\n",
       "       'Район Марьина роща', 'Останкинский район', 'Район Отрадное',\n",
       "       'Район Ростокино', 'Район Северное Медведково', 'Район Свиблово',\n",
       "       'Район Хорошево-Мневники', 'Район Куркино', 'Район Митино',\n",
       "       'Район Покровское-Стрешнево', 'Район Щукино', 'Район Строгино',\n",
       "       'Район Южное Тушино', 'Район Бирюлево Восточное', 'Район Царицыно',\n",
       "       'Район Чертаново Северное', 'Район Чертаново Южное',\n",
       "       'Даниловский район', 'Донской район', 'Район Москворечье-Сабурово',\n",
       "       'Район Нагатино-Садовники', 'Нагорный район', 'Южнопортовый Район',\n",
       "       'Район Кузьминки', 'Район Лефортово', 'Район Люблино',\n",
       "       'Район Марьино', 'Нижегородский район', 'Район Печатники',\n",
       "       'Рязанский район', 'Район Текстильщики', 'Район Выхино-Жулебино',\n",
       "       'Район Черемушки', 'Район Гагаринский', 'Район Ясенево',\n",
       "       'Район Коньково', 'Район Котловка', 'Район Якиманка',\n",
       "       'Обручевский район', 'Район Северное Бутово', 'Район Зюзино',\n",
       "       'Район Южное Бутово', 'Красносельский район', 'Мещанский район'],\n",
       "      dtype=object)"
      ]
     },
     "execution_count": 50,
     "metadata": {},
     "output_type": "execute_result"
    }
   ],
   "source": [
    "mos_gaz[mos_gaz['streetname'].isin(\n",
    "    count_rest_by_streets[count_rest_by_streets['count']==1]['streetname'].unique())]['area'].unique()"
   ]
  },
  {
   "cell_type": "code",
   "execution_count": 51,
   "id": "f817359d",
   "metadata": {},
   "outputs": [
    {
     "name": "stdout",
     "output_type": "stream",
     "text": [
      "Улицы с одним объектом общественного питания расположены в 100 районах Москвы из 123 существующих\n"
     ]
    }
   ],
   "source": [
    "print('Улицы с одним объектом общественного питания расположены в {0} районах Москвы из {1} существующих'\\\n",
    "      .format(\n",
    "    mos_gaz[mos_gaz['streetname'].isin(\n",
    "    count_rest_by_streets[count_rest_by_streets['count']==1]['streetname'].unique())]['area'].nunique(),\n",
    "             mos_gaz['area'].nunique()))"
   ]
  },
  {
   "cell_type": "code",
   "execution_count": 52,
   "id": "ffe574ba",
   "metadata": {},
   "outputs": [
    {
     "data": {
      "text/plain": [
       "Район Хамовники      26\n",
       "Таганский район      25\n",
       "Басманный район      24\n",
       "Тверской район       20\n",
       "Пресненский район    19\n",
       "Name: area, dtype: int64"
      ]
     },
     "execution_count": 52,
     "metadata": {},
     "output_type": "execute_result"
    }
   ],
   "source": [
    "count_rest_by_streets[count_rest_by_streets['count']==1]['area'].value_counts().head()"
   ]
  },
  {
   "cell_type": "markdown",
   "id": "233ec505",
   "metadata": {},
   "source": [
    "<span style=\"color: blue\">Районы с наибольшим количеством улиц с одним объектом общественного питания - это районы в самом центре Москвы в пределах Садового кольца.</span>"
   ]
  },
  {
   "cell_type": "markdown",
   "id": "22eecf8b",
   "metadata": {},
   "source": [
    "<a id=\"seats_top_10_streets\"></a>\n",
    "### Количество посадочных мест на улицах с большим количеством объектов общественного питания"
   ]
  },
  {
   "cell_type": "markdown",
   "id": "27274582",
   "metadata": {},
   "source": [
    "Рассмотрим, как распределены средние количества посадочных мест в заведениях на улицах в большим количеством объектов общественного питания.\n",
    "\n",
    "За улицы с большим количеством примем улицы, на которых объектов общественного питания не меньше, чем у 75% остальных улиц. Для начала определим, сколько объектов общественного питания на этих улицах."
   ]
  },
  {
   "cell_type": "code",
   "execution_count": 53,
   "id": "e03fd8d8",
   "metadata": {},
   "outputs": [
    {
     "name": "stdout",
     "output_type": "stream",
     "text": [
      "Примем за улицы с большим количеством объектов общественного питания улицы, \n",
      "на которых количество объектов общественного питания более 10\n"
     ]
    }
   ],
   "source": [
    "print(\"\"\"Примем за улицы с большим количеством объектов общественного питания улицы, \n",
    "на которых количество объектов общественного питания более\"\"\", int(np.percentile(count_rest_by_streets['count'], 75)))"
   ]
  },
  {
   "cell_type": "markdown",
   "id": "96d05ffc",
   "metadata": {},
   "source": [
    "Вынесем информацию о количестве заведений на этих улицах и среднем количестве посадочных мест в заведении в отдельный датафрейм."
   ]
  },
  {
   "cell_type": "code",
   "execution_count": 54,
   "id": "85c887e4",
   "metadata": {},
   "outputs": [],
   "source": [
    "big_streets = rest_data.pivot_table(\n",
    "    index='street', aggfunc={'id':'count', 'number':'mean'})\\\n",
    "    .rename(columns={'id':'count', 'number':'mean_number'})\\\n",
    "    .sort_values('count', ascending=False)\n",
    "big_streets = big_streets[big_streets['count']>7]"
   ]
  },
  {
   "cell_type": "markdown",
   "id": "d0c4d874",
   "metadata": {},
   "source": [
    "Построим график зависимости среднего количества посадочных мест в заведении от количества заведений на улице."
   ]
  },
  {
   "cell_type": "code",
   "execution_count": 55,
   "id": "4f7874ae",
   "metadata": {},
   "outputs": [
    {
     "data": {
      "image/png": "[encoded data removed]",
      "text/plain": [
       "<Figure size 432x288 with 1 Axes>"
      ]
     },
     "metadata": {
      "needs_background": "light"
     },
     "output_type": "display_data"
    }
   ],
   "source": [
    "sns.scatterplot(x=\"count\", y=\"mean_number\",\n",
    "linewidth=0, alpha=0.3,\n",
    "data=big_streets)\n",
    "plt.title('''Зависимость среднего количества посадочных мест\n",
    "          в заведении от количества заведений на улице''')\n",
    "plt.xlabel('Количество заведений на улице')\n",
    "plt.ylabel('Среднее количество посадочных мест')\n",
    "plt.grid()\n",
    "plt.show()"
   ]
  },
  {
   "cell_type": "markdown",
   "id": "3ffdae32",
   "metadata": {},
   "source": [
    "В целом для улиц с большим количеством объектов общественного питания можно сделать похожие выводы о распределении объектов по количеству посадочных мест: большее количество заведений имеет до 100 посадочных мест, большее количество улиц имеет до 50 заведений. Большие средние количества мест характерны для улиц с небольшим количеством заведений (там меньше влияние большого количества мелких заведений)."
   ]
  },
  {
   "cell_type": "code",
   "execution_count": 56,
   "id": "13859dad",
   "metadata": {
    "scrolled": false
   },
   "outputs": [
    {
     "data": {
      "image/png": "[encoded data removed]",
      "text/plain": [
       "<Figure size 576x360 with 2 Axes>"
      ]
     },
     "metadata": {
      "needs_background": "light"
     },
     "output_type": "display_data"
    }
   ],
   "source": [
    "plt.figure(figsize=(8, 5))  \n",
    "sns.heatmap(rest_data[rest_data['street'].isin(top_ten_streets)].pivot_table(\n",
    "    index='object_type', columns='street', values='number', aggfunc='median', fill_value=0), annot=True)\n",
    "plt.show()"
   ]
  },
  {
   "cell_type": "markdown",
   "id": "8edd7098",
   "metadata": {},
   "source": [
    "<span style=\"color: blue\">Наибольшее медианное количество посадочных мест в объектах общественного питания из списка улиц топ-10 в буфетах на Ленинском проспекте и Пресненской набережной, а также (ожидаемо) в ресторанах и столовых.</span>"
   ]
  },
  {
   "cell_type": "markdown",
   "id": "316b975d",
   "metadata": {},
   "source": [
    "<a id=\"analysis_conclusion\"></a>\n",
    "### Вывод"
   ]
  },
  {
   "cell_type": "markdown",
   "id": "4a0f7250",
   "metadata": {},
   "source": [
    "Наиболее распространенные заведения в Москве - кафе, за ними - столовые, рестораны и предприятия быстрого питания. Сетевые распространены реже, чем несетевые, их количество менее 20%. Наиболее часто сетевые заведения встречаются среди предприятий быстрого обслуживания (41%), отделов кулинарии в магазинах (29%), ресторанов и кафе (24 и 23% соответственно). \n",
    "\n",
    "\n",
    "Среди сетей общественного питания чаще встречаются сети с количеством заведений до 20 со средним количеством посадочных мест до 150, однако встречаются большие сети с количеством заведений до 188 - среднее количество посадочных мест в таких сетях не превышает 100, и сети с большим средним количеством посадочных мест - свыше 300 - однако такие сети имеют не более 3 заведений.\n",
    "\n",
    "\n",
    "По видам объекта общественного питания наибольшее среднее количество посадочных мест имеют столовые (130) и рестораны (96).\n",
    "\n",
    "\n",
    "Наибольшее количество заведений расположены на улицах: проспект Мира, Профсоюзная, Ленинградский проспект, Пресненская набережная, Варшавское шоссе, Ленинский проспект, проспект Вернадского, Кутузовский проспект и Каширское шоссе, а также в городе Зеленоград. Возможно, это обусловлено протяженностью улиц (большая часть из них растянута в направлении от Садового кольца к ТКК) и большой проходимостью (на данных улицах большое количество не только заведений питания, но и мест работы и учебы). <br>\n",
    "Данные улицы расположены в центре Москвы и прилегающих районах, однако в этих же районах можно найти и улицы с одним объектом общественного питания.\n",
    "\n",
    "\n",
    "Распределение среднего количества посадочных мест в объектах общественного питания по улицам в зависимости от количества объектов общественного питания на улице похоже на распределение среднего количества посадочных мест в заведениях сети от размера сети: на улицах с большим количеством заведений среднее количество посадочных мест не превышает 100, на улицах с большим средним количеством посадочных мест количество заведений не более 10, большая часть улиц имеет не более 75 заведений и среднее количество посадочных мест не более 150. "
   ]
  },
  {
   "cell_type": "markdown",
   "id": "ed0aee03",
   "metadata": {},
   "source": [
    "<a id=\"conclusion\"></a>\n",
    "## Общий вывод"
   ]
  },
  {
   "cell_type": "markdown",
   "id": "c73ddbee",
   "metadata": {},
   "source": [
    "Проведен анализ открытых данных о заведениях общественного питания в Москве.\n",
    "\n",
    "Данные получены в виде датасета с информацией: идентификатор объекта общественного питания, его название, указание, является ли объект сетевым, тип объекта, его адрес и количество посадочных мест.\n",
    "\n",
    "В ходе предобработки добавлена колонка с названием заведения в нижнем регистре, названия сетей скорректированы в соответствии с данными датасета moscow_rest_chains.csv.\n",
    "\n",
    "При анализе установлено:\n",
    "- наиболее распространенные заведения в Москве - кафе, за ними - столовые, рестораны и предприятия быстрого питания, сетевых заметно меньше, чем несетевые, сетевыми чаще являются предприятия быстрого обслуживания, отделы кулинарии в магазинах, рестораны и кафе;\n",
    "- среди сетей общественного питания наиболее распространены сети со средним количеством посадочных мест до 150 и количеством заведений до 20;\n",
    "- наибольшее среднее количество посадочных мест имеют столовые и рестораны;\n",
    "- наибольшее количество заведений расположены на центральных улицах Москвы;\n",
    "- улицы с наибольшим количеством заведений общественного питания имеют до 10 заведений и среднее количество посадочных мест в заведениях до 150. \n",
    "---\n",
    "**Рекомендации**\n",
    "\n",
    "Кафе лучше открыть на одной из центральных улиц с большой проходимостью, количество посадочных мест определить <span style=\"color: blue\">от 15 до 50</span>.\n",
    "\n",
    "---\n",
    "\n",
    "<a href='https://drive.google.com/file/d/10pLNxdcSwrJnRHcG4fVgCzA42BXYwqAs/view?usp=sharing'>Презентация</a>"
   ]
  }
 ],
 "metadata": {
  "ExecuteTimeLog": [
   {
    "duration": 1460,
    "start_time": "2022-04-25T00:10:49.400Z"
   },
   {
    "duration": 62,
    "start_time": "2022-04-25T00:10:50.862Z"
   },
   {
    "duration": 4,
    "start_time": "2022-04-25T00:10:50.926Z"
   },
   {
    "duration": 44,
    "start_time": "2022-04-25T00:10:50.932Z"
   },
   {
    "duration": 22,
    "start_time": "2022-04-25T00:10:50.979Z"
   },
   {
    "duration": 31,
    "start_time": "2022-04-25T00:10:51.003Z"
   },
   {
    "duration": 13,
    "start_time": "2022-04-25T00:10:51.036Z"
   },
   {
    "duration": 1014,
    "start_time": "2022-04-25T00:10:51.051Z"
   },
   {
    "duration": 9,
    "start_time": "2022-04-25T00:10:52.066Z"
   },
   {
    "duration": 23,
    "start_time": "2022-04-25T00:10:52.077Z"
   },
   {
    "duration": 9,
    "start_time": "2022-04-25T00:10:52.102Z"
   },
   {
    "duration": 14,
    "start_time": "2022-04-25T00:10:52.113Z"
   },
   {
    "duration": 135,
    "start_time": "2022-04-25T00:10:52.129Z"
   },
   {
    "duration": 4,
    "start_time": "2022-04-25T00:10:52.267Z"
   },
   {
    "duration": 550,
    "start_time": "2022-04-25T00:10:52.272Z"
   },
   {
    "duration": 17,
    "start_time": "2022-04-25T00:10:52.824Z"
   },
   {
    "duration": 19,
    "start_time": "2022-04-25T00:10:52.843Z"
   },
   {
    "duration": 167,
    "start_time": "2022-04-25T00:10:52.864Z"
   },
   {
    "duration": 7,
    "start_time": "2022-04-25T00:10:53.033Z"
   },
   {
    "duration": 118,
    "start_time": "2022-04-25T00:10:53.041Z"
   },
   {
    "duration": 33,
    "start_time": "2022-04-25T00:10:53.161Z"
   },
   {
    "duration": 20,
    "start_time": "2022-04-25T00:10:53.196Z"
   },
   {
    "duration": 13,
    "start_time": "2022-04-25T00:10:53.218Z"
   },
   {
    "duration": 388,
    "start_time": "2022-04-25T00:10:53.232Z"
   },
   {
    "duration": 8,
    "start_time": "2022-04-25T00:10:53.622Z"
   },
   {
    "duration": 280,
    "start_time": "2022-04-25T00:10:53.632Z"
   },
   {
    "duration": 13,
    "start_time": "2022-04-25T00:10:53.914Z"
   },
   {
    "duration": 181,
    "start_time": "2022-04-25T00:10:53.929Z"
   },
   {
    "duration": 5,
    "start_time": "2022-04-25T00:10:54.111Z"
   },
   {
    "duration": 11,
    "start_time": "2022-04-25T00:10:54.118Z"
   },
   {
    "duration": 551,
    "start_time": "2022-04-25T00:10:54.131Z"
   },
   {
    "duration": 4,
    "start_time": "2022-04-25T00:10:54.692Z"
   },
   {
    "duration": 3417,
    "start_time": "2022-04-25T00:10:54.698Z"
   },
   {
    "duration": 4,
    "start_time": "2022-04-25T00:10:58.118Z"
   },
   {
    "duration": 35,
    "start_time": "2022-04-25T00:10:58.124Z"
   },
   {
    "duration": 35,
    "start_time": "2022-04-25T00:10:58.161Z"
   },
   {
    "duration": 7,
    "start_time": "2022-04-25T00:10:58.198Z"
   },
   {
    "duration": 206,
    "start_time": "2022-04-25T00:10:58.206Z"
   },
   {
    "duration": 265,
    "start_time": "2022-04-25T00:10:58.414Z"
   },
   {
    "duration": 5,
    "start_time": "2022-04-25T00:10:58.681Z"
   },
   {
    "duration": 7,
    "start_time": "2022-04-25T00:10:58.690Z"
   },
   {
    "duration": 5,
    "start_time": "2022-04-25T00:10:58.698Z"
   },
   {
    "duration": 7,
    "start_time": "2022-04-25T00:10:58.705Z"
   },
   {
    "duration": 8,
    "start_time": "2022-04-25T00:10:58.714Z"
   },
   {
    "duration": 4,
    "start_time": "2022-04-25T00:10:58.724Z"
   },
   {
    "duration": 27,
    "start_time": "2022-04-25T00:10:58.729Z"
   },
   {
    "duration": 197,
    "start_time": "2022-04-25T00:10:58.757Z"
   },
   {
    "duration": 59,
    "start_time": "2022-04-25T00:11:40.021Z"
   },
   {
    "duration": 5,
    "start_time": "2022-04-25T00:13:13.438Z"
   },
   {
    "duration": 5,
    "start_time": "2022-04-25T00:13:44.899Z"
   },
   {
    "duration": 6,
    "start_time": "2022-04-25T00:13:48.594Z"
   },
   {
    "duration": 5,
    "start_time": "2022-04-25T00:13:51.639Z"
   },
   {
    "duration": 112,
    "start_time": "2022-04-25T00:18:53.251Z"
   },
   {
    "duration": 3,
    "start_time": "2022-04-25T00:18:58.366Z"
   },
   {
    "duration": 56,
    "start_time": "2022-04-25T00:18:58.372Z"
   },
   {
    "duration": 4,
    "start_time": "2022-04-25T00:18:58.430Z"
   },
   {
    "duration": 63,
    "start_time": "2022-04-25T00:18:58.436Z"
   },
   {
    "duration": 9,
    "start_time": "2022-04-25T00:18:58.501Z"
   },
   {
    "duration": 15,
    "start_time": "2022-04-25T00:18:58.512Z"
   },
   {
    "duration": 9,
    "start_time": "2022-04-25T00:18:58.529Z"
   },
   {
    "duration": 887,
    "start_time": "2022-04-25T00:18:58.540Z"
   },
   {
    "duration": 9,
    "start_time": "2022-04-25T00:18:59.430Z"
   },
   {
    "duration": 14,
    "start_time": "2022-04-25T00:18:59.440Z"
   },
   {
    "duration": 6,
    "start_time": "2022-04-25T00:18:59.456Z"
   },
   {
    "duration": 14,
    "start_time": "2022-04-25T00:18:59.464Z"
   },
   {
    "duration": 133,
    "start_time": "2022-04-25T00:18:59.480Z"
   },
   {
    "duration": 3,
    "start_time": "2022-04-25T00:18:59.615Z"
   },
   {
    "duration": 559,
    "start_time": "2022-04-25T00:18:59.620Z"
   },
   {
    "duration": 21,
    "start_time": "2022-04-25T00:19:00.181Z"
   },
   {
    "duration": 8,
    "start_time": "2022-04-25T00:19:00.203Z"
   },
   {
    "duration": 169,
    "start_time": "2022-04-25T00:19:00.213Z"
   },
   {
    "duration": 10,
    "start_time": "2022-04-25T00:19:00.383Z"
   },
   {
    "duration": 119,
    "start_time": "2022-04-25T00:19:00.395Z"
   },
   {
    "duration": 22,
    "start_time": "2022-04-25T00:19:00.516Z"
   },
   {
    "duration": 20,
    "start_time": "2022-04-25T00:19:00.540Z"
   },
   {
    "duration": 33,
    "start_time": "2022-04-25T00:19:00.561Z"
   },
   {
    "duration": 6,
    "start_time": "2022-04-25T00:19:00.597Z"
   },
   {
    "duration": 272,
    "start_time": "2022-04-25T00:19:00.604Z"
   },
   {
    "duration": 15,
    "start_time": "2022-04-25T00:19:00.877Z"
   },
   {
    "duration": 359,
    "start_time": "2022-04-25T00:19:00.894Z"
   },
   {
    "duration": 14,
    "start_time": "2022-04-25T00:19:01.255Z"
   },
   {
    "duration": 193,
    "start_time": "2022-04-25T00:19:01.271Z"
   },
   {
    "duration": 5,
    "start_time": "2022-04-25T00:19:01.466Z"
   },
   {
    "duration": 24,
    "start_time": "2022-04-25T00:19:01.472Z"
   },
   {
    "duration": 479,
    "start_time": "2022-04-25T00:19:01.498Z"
   },
   {
    "duration": 5,
    "start_time": "2022-04-25T00:19:01.979Z"
   },
   {
    "duration": 21,
    "start_time": "2022-04-25T00:19:01.993Z"
   },
   {
    "duration": 0,
    "start_time": "2022-04-25T00:19:02.016Z"
   },
   {
    "duration": 0,
    "start_time": "2022-04-25T00:19:02.018Z"
   },
   {
    "duration": 0,
    "start_time": "2022-04-25T00:19:02.020Z"
   },
   {
    "duration": 0,
    "start_time": "2022-04-25T00:19:02.021Z"
   },
   {
    "duration": 0,
    "start_time": "2022-04-25T00:19:02.023Z"
   },
   {
    "duration": 0,
    "start_time": "2022-04-25T00:19:02.024Z"
   },
   {
    "duration": 0,
    "start_time": "2022-04-25T00:19:02.027Z"
   },
   {
    "duration": 0,
    "start_time": "2022-04-25T00:19:02.028Z"
   },
   {
    "duration": 0,
    "start_time": "2022-04-25T00:19:02.030Z"
   },
   {
    "duration": 0,
    "start_time": "2022-04-25T00:19:02.031Z"
   },
   {
    "duration": 0,
    "start_time": "2022-04-25T00:19:02.033Z"
   },
   {
    "duration": 0,
    "start_time": "2022-04-25T00:19:02.035Z"
   },
   {
    "duration": 0,
    "start_time": "2022-04-25T00:19:02.036Z"
   },
   {
    "duration": 0,
    "start_time": "2022-04-25T00:19:02.038Z"
   },
   {
    "duration": 0,
    "start_time": "2022-04-25T00:19:02.039Z"
   },
   {
    "duration": 3631,
    "start_time": "2022-04-25T00:19:16.492Z"
   },
   {
    "duration": 3362,
    "start_time": "2022-04-25T00:19:34.149Z"
   },
   {
    "duration": 4,
    "start_time": "2022-04-25T00:20:04.498Z"
   },
   {
    "duration": 60,
    "start_time": "2022-04-25T00:20:04.504Z"
   },
   {
    "duration": 5,
    "start_time": "2022-04-25T00:20:04.566Z"
   },
   {
    "duration": 58,
    "start_time": "2022-04-25T00:20:04.573Z"
   },
   {
    "duration": 10,
    "start_time": "2022-04-25T00:20:04.634Z"
   },
   {
    "duration": 16,
    "start_time": "2022-04-25T00:20:04.646Z"
   },
   {
    "duration": 10,
    "start_time": "2022-04-25T00:20:04.693Z"
   },
   {
    "duration": 657,
    "start_time": "2022-04-25T00:20:04.705Z"
   },
   {
    "duration": 11,
    "start_time": "2022-04-25T00:20:05.363Z"
   },
   {
    "duration": 15,
    "start_time": "2022-04-25T00:20:05.376Z"
   },
   {
    "duration": 4,
    "start_time": "2022-04-25T00:20:05.393Z"
   },
   {
    "duration": 13,
    "start_time": "2022-04-25T00:20:05.399Z"
   },
   {
    "duration": 151,
    "start_time": "2022-04-25T00:20:05.415Z"
   },
   {
    "duration": 4,
    "start_time": "2022-04-25T00:20:05.568Z"
   },
   {
    "duration": 569,
    "start_time": "2022-04-25T00:20:05.574Z"
   },
   {
    "duration": 20,
    "start_time": "2022-04-25T00:20:06.145Z"
   },
   {
    "duration": 7,
    "start_time": "2022-04-25T00:20:06.167Z"
   },
   {
    "duration": 185,
    "start_time": "2022-04-25T00:20:06.175Z"
   },
   {
    "duration": 7,
    "start_time": "2022-04-25T00:20:06.362Z"
   },
   {
    "duration": 132,
    "start_time": "2022-04-25T00:20:06.371Z"
   },
   {
    "duration": 25,
    "start_time": "2022-04-25T00:20:06.505Z"
   },
   {
    "duration": 21,
    "start_time": "2022-04-25T00:20:06.531Z"
   },
   {
    "duration": 41,
    "start_time": "2022-04-25T00:20:06.554Z"
   },
   {
    "duration": 6,
    "start_time": "2022-04-25T00:20:06.597Z"
   },
   {
    "duration": 270,
    "start_time": "2022-04-25T00:20:06.605Z"
   },
   {
    "duration": 16,
    "start_time": "2022-04-25T00:20:06.877Z"
   },
   {
    "duration": 365,
    "start_time": "2022-04-25T00:20:06.895Z"
   },
   {
    "duration": 14,
    "start_time": "2022-04-25T00:20:07.261Z"
   },
   {
    "duration": 178,
    "start_time": "2022-04-25T00:20:07.277Z"
   },
   {
    "duration": 4,
    "start_time": "2022-04-25T00:20:07.457Z"
   },
   {
    "duration": 11,
    "start_time": "2022-04-25T00:20:07.463Z"
   },
   {
    "duration": 467,
    "start_time": "2022-04-25T00:20:07.475Z"
   },
   {
    "duration": 4,
    "start_time": "2022-04-25T00:20:07.944Z"
   },
   {
    "duration": 3549,
    "start_time": "2022-04-25T00:20:07.949Z"
   },
   {
    "duration": 3397,
    "start_time": "2022-04-25T00:20:11.500Z"
   },
   {
    "duration": 5,
    "start_time": "2022-04-25T00:20:14.899Z"
   },
   {
    "duration": 42,
    "start_time": "2022-04-25T00:20:14.908Z"
   },
   {
    "duration": 19,
    "start_time": "2022-04-25T00:20:14.952Z"
   },
   {
    "duration": 22,
    "start_time": "2022-04-25T00:20:14.972Z"
   },
   {
    "duration": 214,
    "start_time": "2022-04-25T00:20:14.996Z"
   },
   {
    "duration": 194,
    "start_time": "2022-04-25T00:20:15.211Z"
   },
   {
    "duration": 5,
    "start_time": "2022-04-25T00:20:15.408Z"
   },
   {
    "duration": 11,
    "start_time": "2022-04-25T00:20:15.416Z"
   },
   {
    "duration": 7,
    "start_time": "2022-04-25T00:20:15.429Z"
   },
   {
    "duration": 8,
    "start_time": "2022-04-25T00:20:15.438Z"
   },
   {
    "duration": 9,
    "start_time": "2022-04-25T00:20:15.448Z"
   },
   {
    "duration": 5,
    "start_time": "2022-04-25T00:20:15.494Z"
   },
   {
    "duration": 20,
    "start_time": "2022-04-25T00:20:15.501Z"
   },
   {
    "duration": 191,
    "start_time": "2022-04-25T00:20:15.523Z"
   },
   {
    "duration": 130,
    "start_time": "2022-04-30T18:15:53.859Z"
   },
   {
    "duration": 43,
    "start_time": "2022-04-30T18:23:18.284Z"
   },
   {
    "duration": 1174,
    "start_time": "2022-04-30T18:23:20.976Z"
   },
   {
    "duration": 48,
    "start_time": "2022-04-30T18:23:22.152Z"
   },
   {
    "duration": 4,
    "start_time": "2022-04-30T18:23:22.202Z"
   },
   {
    "duration": 49,
    "start_time": "2022-04-30T18:23:22.209Z"
   },
   {
    "duration": 9,
    "start_time": "2022-04-30T18:23:22.261Z"
   },
   {
    "duration": 15,
    "start_time": "2022-04-30T18:23:22.272Z"
   },
   {
    "duration": 37,
    "start_time": "2022-04-30T18:23:22.289Z"
   },
   {
    "duration": 968,
    "start_time": "2022-04-30T18:23:22.328Z"
   },
   {
    "duration": 8,
    "start_time": "2022-04-30T18:23:23.298Z"
   },
   {
    "duration": 17,
    "start_time": "2022-04-30T18:23:23.310Z"
   },
   {
    "duration": 3,
    "start_time": "2022-04-30T18:23:23.329Z"
   },
   {
    "duration": 13,
    "start_time": "2022-04-30T18:23:23.334Z"
   },
   {
    "duration": 116,
    "start_time": "2022-04-30T18:23:23.348Z"
   },
   {
    "duration": 3,
    "start_time": "2022-04-30T18:23:23.466Z"
   },
   {
    "duration": 462,
    "start_time": "2022-04-30T18:23:23.471Z"
   },
   {
    "duration": 17,
    "start_time": "2022-04-30T18:23:23.935Z"
   },
   {
    "duration": 30,
    "start_time": "2022-04-30T18:23:23.954Z"
   },
   {
    "duration": 46,
    "start_time": "2022-04-30T18:23:23.985Z"
   },
   {
    "duration": 10,
    "start_time": "2022-04-30T18:23:24.033Z"
   },
   {
    "duration": 21,
    "start_time": "2022-04-30T18:23:24.044Z"
   },
   {
    "duration": 16,
    "start_time": "2022-04-30T18:23:24.067Z"
   },
   {
    "duration": 149,
    "start_time": "2022-04-30T18:23:24.085Z"
   },
   {
    "duration": 6,
    "start_time": "2022-04-30T18:23:24.236Z"
   },
   {
    "duration": 110,
    "start_time": "2022-04-30T18:23:24.243Z"
   },
   {
    "duration": 21,
    "start_time": "2022-04-30T18:23:24.355Z"
   },
   {
    "duration": 65,
    "start_time": "2022-04-30T18:23:24.378Z"
   },
   {
    "duration": 10,
    "start_time": "2022-04-30T18:23:24.445Z"
   },
   {
    "duration": 4,
    "start_time": "2022-04-30T18:23:24.458Z"
   },
   {
    "duration": 246,
    "start_time": "2022-04-30T18:23:24.464Z"
   },
   {
    "duration": 14,
    "start_time": "2022-04-30T18:23:24.711Z"
   },
   {
    "duration": 229,
    "start_time": "2022-04-30T18:23:24.727Z"
   },
   {
    "duration": 13,
    "start_time": "2022-04-30T18:23:24.958Z"
   },
   {
    "duration": 231,
    "start_time": "2022-04-30T18:23:24.972Z"
   },
   {
    "duration": 4,
    "start_time": "2022-04-30T18:23:25.204Z"
   },
   {
    "duration": 14,
    "start_time": "2022-04-30T18:23:25.210Z"
   },
   {
    "duration": 5,
    "start_time": "2022-04-30T18:23:25.226Z"
   },
   {
    "duration": 13,
    "start_time": "2022-04-30T18:23:25.233Z"
   },
   {
    "duration": 6,
    "start_time": "2022-04-30T18:23:25.248Z"
   },
   {
    "duration": 9,
    "start_time": "2022-04-30T18:23:25.255Z"
   },
   {
    "duration": 674,
    "start_time": "2022-04-30T18:23:25.266Z"
   },
   {
    "duration": 3,
    "start_time": "2022-04-30T18:23:25.942Z"
   },
   {
    "duration": 10,
    "start_time": "2022-04-30T18:23:25.946Z"
   },
   {
    "duration": 3087,
    "start_time": "2022-04-30T18:23:25.957Z"
   },
   {
    "duration": 4,
    "start_time": "2022-04-30T18:23:29.046Z"
   },
   {
    "duration": 34,
    "start_time": "2022-04-30T18:23:29.051Z"
   },
   {
    "duration": 17,
    "start_time": "2022-04-30T18:23:29.086Z"
   },
   {
    "duration": 24,
    "start_time": "2022-04-30T18:23:29.105Z"
   },
   {
    "duration": 181,
    "start_time": "2022-04-30T18:23:29.130Z"
   },
   {
    "duration": 204,
    "start_time": "2022-04-30T18:23:29.313Z"
   },
   {
    "duration": 5,
    "start_time": "2022-04-30T18:23:29.519Z"
   },
   {
    "duration": 11,
    "start_time": "2022-04-30T18:23:29.525Z"
   },
   {
    "duration": 10,
    "start_time": "2022-04-30T18:23:29.537Z"
   },
   {
    "duration": 12,
    "start_time": "2022-04-30T18:23:29.548Z"
   },
   {
    "duration": 8,
    "start_time": "2022-04-30T18:23:29.562Z"
   },
   {
    "duration": 6,
    "start_time": "2022-04-30T18:23:29.571Z"
   },
   {
    "duration": 5,
    "start_time": "2022-04-30T18:23:29.579Z"
   },
   {
    "duration": 7,
    "start_time": "2022-04-30T18:23:29.586Z"
   },
   {
    "duration": 35,
    "start_time": "2022-04-30T18:23:29.594Z"
   },
   {
    "duration": 6,
    "start_time": "2022-04-30T18:23:29.630Z"
   },
   {
    "duration": 4,
    "start_time": "2022-04-30T18:23:29.638Z"
   },
   {
    "duration": 17,
    "start_time": "2022-04-30T18:23:29.644Z"
   },
   {
    "duration": 178,
    "start_time": "2022-04-30T18:23:29.663Z"
   },
   {
    "duration": 387,
    "start_time": "2022-04-30T18:23:29.843Z"
   },
   {
    "duration": 681,
    "start_time": "2022-04-30T18:23:31.920Z"
   },
   {
    "duration": 172,
    "start_time": "2022-04-30T18:27:56.316Z"
   },
   {
    "duration": 778,
    "start_time": "2022-04-30T18:28:21.693Z"
   },
   {
    "duration": 411,
    "start_time": "2022-04-30T18:28:31.077Z"
   },
   {
    "duration": 123,
    "start_time": "2022-04-30T18:30:09.536Z"
   }
  ],
  "kernelspec": {
   "display_name": "Python 3 (ipykernel)",
   "language": "python",
   "name": "python3"
  },
  "language_info": {
   "codemirror_mode": {
    "name": "ipython",
    "version": 3
   },
   "file_extension": ".py",
   "mimetype": "text/x-python",
   "name": "python",
   "nbconvert_exporter": "python",
   "pygments_lexer": "ipython3",
   "version": "3.10.0"
  },
  "toc": {
   "base_numbering": 1,
   "nav_menu": {},
   "number_sections": true,
   "sideBar": true,
   "skip_h1_title": true,
   "title_cell": "Table of Contents",
   "title_sidebar": "Contents",
   "toc_cell": false,
   "toc_position": {},
   "toc_section_display": true,
   "toc_window_display": false
  }
 },
 "nbformat": 4,
 "nbformat_minor": 5
}
